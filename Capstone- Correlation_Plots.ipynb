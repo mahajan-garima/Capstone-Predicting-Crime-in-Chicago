{
 "cells": [
  {
   "cell_type": "markdown",
   "metadata": {},
   "source": [
    "# Importing the necessary Libraries"
   ]
  },
  {
   "cell_type": "code",
   "execution_count": 1,
   "metadata": {},
   "outputs": [],
   "source": [
    "import pandas as pd\n",
    "import seaborn as sns\n",
    "import numpy as np\n",
    "from datetime import datetime\n",
    "import warnings\n",
    "import matplotlib.pyplot as plt\n",
    "import scipy.stats as stats\n",
    "from sklearn.model_selection import train_test_split\n",
    "from imblearn.over_sampling import SMOTE\n",
    "\n",
    "warnings.filterwarnings(\"ignore\")\n",
    "plt.style.use('fivethirtyeight')"
   ]
  },
  {
   "cell_type": "code",
   "execution_count": 2,
   "metadata": {},
   "outputs": [],
   "source": [
    "path = ('./crime_data_2.csv')"
   ]
  },
  {
   "cell_type": "code",
   "execution_count": 3,
   "metadata": {},
   "outputs": [],
   "source": [
    "crimes= pd.read_csv(path)"
   ]
  },
  {
   "cell_type": "code",
   "execution_count": 4,
   "metadata": {},
   "outputs": [
    {
     "data": {
      "text/html": [
       "<div>\n",
       "<style scoped>\n",
       "    .dataframe tbody tr th:only-of-type {\n",
       "        vertical-align: middle;\n",
       "    }\n",
       "\n",
       "    .dataframe tbody tr th {\n",
       "        vertical-align: top;\n",
       "    }\n",
       "\n",
       "    .dataframe thead th {\n",
       "        text-align: right;\n",
       "    }\n",
       "</style>\n",
       "<table border=\"1\" class=\"dataframe\">\n",
       "  <thead>\n",
       "    <tr style=\"text-align: right;\">\n",
       "      <th></th>\n",
       "      <th>Unnamed: 0</th>\n",
       "      <th>datetime</th>\n",
       "      <th>address</th>\n",
       "      <th>IL_crime_code</th>\n",
       "      <th>crime_type</th>\n",
       "      <th>crime_description</th>\n",
       "      <th>location_description</th>\n",
       "      <th>arrests</th>\n",
       "      <th>domestic_violence</th>\n",
       "      <th>pbeats</th>\n",
       "      <th>pdistricts</th>\n",
       "      <th>wards</th>\n",
       "      <th>community_areas</th>\n",
       "      <th>FBI_code</th>\n",
       "      <th>year</th>\n",
       "      <th>latitude</th>\n",
       "      <th>longitude</th>\n",
       "      <th>census_tracts</th>\n",
       "      <th>month</th>\n",
       "      <th>day</th>\n",
       "      <th>hour</th>\n",
       "      <th>minute</th>\n",
       "      <th>weekofday</th>\n",
       "      <th>community_area_name</th>\n",
       "      <th>pdistricts_name</th>\n",
       "      <th>district</th>\n",
       "      <th>crime_classification</th>\n",
       "      <th>season</th>\n",
       "      <th>parts_of_day</th>\n",
       "    </tr>\n",
       "  </thead>\n",
       "  <tbody>\n",
       "    <tr>\n",
       "      <th>0</th>\n",
       "      <td>0</td>\n",
       "      <td>2019-04-19 23:48:00</td>\n",
       "      <td>024xx w van buren st</td>\n",
       "      <td>051A</td>\n",
       "      <td>assault</td>\n",
       "      <td>aggravated: handgun</td>\n",
       "      <td>street</td>\n",
       "      <td>False</td>\n",
       "      <td>False</td>\n",
       "      <td>146.0</td>\n",
       "      <td>11</td>\n",
       "      <td>23.0</td>\n",
       "      <td>29</td>\n",
       "      <td>04A</td>\n",
       "      <td>2019.0</td>\n",
       "      <td>41.876072</td>\n",
       "      <td>-87.687615</td>\n",
       "      <td>756.0</td>\n",
       "      <td>4</td>\n",
       "      <td>19</td>\n",
       "      <td>23</td>\n",
       "      <td>48</td>\n",
       "      <td>friday</td>\n",
       "      <td>North Lawndale Chicago</td>\n",
       "      <td>Harrison</td>\n",
       "      <td>West Side</td>\n",
       "      <td>violent_offenses</td>\n",
       "      <td>spring</td>\n",
       "      <td>night</td>\n",
       "    </tr>\n",
       "    <tr>\n",
       "      <th>1</th>\n",
       "      <td>1</td>\n",
       "      <td>2019-04-19 23:19:00</td>\n",
       "      <td>025xx w washington blvd</td>\n",
       "      <td>0910</td>\n",
       "      <td>motor vehicle theft</td>\n",
       "      <td>automobile</td>\n",
       "      <td>residential driveway</td>\n",
       "      <td>False</td>\n",
       "      <td>False</td>\n",
       "      <td>77.0</td>\n",
       "      <td>12</td>\n",
       "      <td>46.0</td>\n",
       "      <td>29</td>\n",
       "      <td>07</td>\n",
       "      <td>2019.0</td>\n",
       "      <td>41.882972</td>\n",
       "      <td>-87.689778</td>\n",
       "      <td>37.0</td>\n",
       "      <td>4</td>\n",
       "      <td>19</td>\n",
       "      <td>23</td>\n",
       "      <td>19</td>\n",
       "      <td>friday</td>\n",
       "      <td>North Lawndale Chicago</td>\n",
       "      <td>Near West</td>\n",
       "      <td>West Side</td>\n",
       "      <td>theft</td>\n",
       "      <td>spring</td>\n",
       "      <td>night</td>\n",
       "    </tr>\n",
       "    <tr>\n",
       "      <th>2</th>\n",
       "      <td>2</td>\n",
       "      <td>2019-04-19 23:15:00</td>\n",
       "      <td>002xx s hoyne ave</td>\n",
       "      <td>2820</td>\n",
       "      <td>general offense</td>\n",
       "      <td>telephone threat</td>\n",
       "      <td>apartment</td>\n",
       "      <td>False</td>\n",
       "      <td>True</td>\n",
       "      <td>139.0</td>\n",
       "      <td>12</td>\n",
       "      <td>46.0</td>\n",
       "      <td>29</td>\n",
       "      <td>08A</td>\n",
       "      <td>2019.0</td>\n",
       "      <td>41.878279</td>\n",
       "      <td>-87.679011</td>\n",
       "      <td>89.0</td>\n",
       "      <td>4</td>\n",
       "      <td>19</td>\n",
       "      <td>23</td>\n",
       "      <td>15</td>\n",
       "      <td>friday</td>\n",
       "      <td>North Lawndale Chicago</td>\n",
       "      <td>Near West</td>\n",
       "      <td>West Side</td>\n",
       "      <td>general_offenses</td>\n",
       "      <td>spring</td>\n",
       "      <td>night</td>\n",
       "    </tr>\n",
       "  </tbody>\n",
       "</table>\n",
       "</div>"
      ],
      "text/plain": [
       "   Unnamed: 0             datetime                  address IL_crime_code  \\\n",
       "0           0  2019-04-19 23:48:00     024xx w van buren st          051A   \n",
       "1           1  2019-04-19 23:19:00  025xx w washington blvd          0910   \n",
       "2           2  2019-04-19 23:15:00        002xx s hoyne ave          2820   \n",
       "\n",
       "            crime_type    crime_description  location_description  arrests  \\\n",
       "0              assault  aggravated: handgun                street    False   \n",
       "1  motor vehicle theft           automobile  residential driveway    False   \n",
       "2      general offense     telephone threat             apartment    False   \n",
       "\n",
       "   domestic_violence  pbeats  pdistricts  wards  community_areas FBI_code  \\\n",
       "0              False   146.0          11   23.0               29      04A   \n",
       "1              False    77.0          12   46.0               29       07   \n",
       "2               True   139.0          12   46.0               29      08A   \n",
       "\n",
       "     year   latitude  longitude  census_tracts  month  day  hour  minute  \\\n",
       "0  2019.0  41.876072 -87.687615          756.0      4   19    23      48   \n",
       "1  2019.0  41.882972 -87.689778           37.0      4   19    23      19   \n",
       "2  2019.0  41.878279 -87.679011           89.0      4   19    23      15   \n",
       "\n",
       "  weekofday     community_area_name pdistricts_name   district  \\\n",
       "0    friday  North Lawndale Chicago        Harrison  West Side   \n",
       "1    friday  North Lawndale Chicago       Near West  West Side   \n",
       "2    friday  North Lawndale Chicago       Near West  West Side   \n",
       "\n",
       "  crime_classification  season parts_of_day  \n",
       "0     violent_offenses  spring        night  \n",
       "1                theft  spring        night  \n",
       "2     general_offenses  spring        night  "
      ]
     },
     "execution_count": 4,
     "metadata": {},
     "output_type": "execute_result"
    }
   ],
   "source": [
    "pd.set_option('display.max_columns',30)\n",
    "crimes.head(3)"
   ]
  },
  {
   "cell_type": "code",
   "execution_count": 5,
   "metadata": {},
   "outputs": [],
   "source": [
    "crimes= crimes.drop(['Unnamed: 0'], axis=1)"
   ]
  },
  {
   "cell_type": "markdown",
   "metadata": {},
   "source": [
    "\n",
    "\n",
    "\n",
    "\n",
    "## 1. Checking for Correlation between the categorical variables:\n",
    "\n",
    "\n",
    "\n"
   ]
  },
  {
   "cell_type": "code",
   "execution_count": 6,
   "metadata": {},
   "outputs": [
    {
     "data": {
      "text/plain": [
       "Index(['datetime', 'address', 'IL_crime_code', 'crime_type',\n",
       "       'crime_description', 'location_description', 'FBI_code', 'weekofday',\n",
       "       'community_area_name', 'pdistricts_name', 'district',\n",
       "       'crime_classification', 'season', 'parts_of_day'],\n",
       "      dtype='object')"
      ]
     },
     "execution_count": 6,
     "metadata": {},
     "output_type": "execute_result"
    }
   ],
   "source": [
    "crimes.select_dtypes(include='object').columns"
   ]
  },
  {
   "cell_type": "markdown",
   "metadata": {},
   "source": [
    "#### Checking for correlations using cramers's V rule"
   ]
  },
  {
   "cell_type": "code",
   "execution_count": 8,
   "metadata": {},
   "outputs": [],
   "source": [
    "cor_check= crimes.loc[:,['address', 'IL_crime_code', 'crime_type',\n",
    "                      'crime_description', 'location_description', 'FBI_code', 'weekofday',\n",
    "                      'community_area_name', 'pdistricts_name', 'district',\n",
    "                      'crime_classification', 'season', 'parts_of_day']]"
   ]
  },
  {
   "cell_type": "code",
   "execution_count": 7,
   "metadata": {},
   "outputs": [],
   "source": [
    "check1= crimes.loc[:,['IL_crime_code','crime_description','location_description',\n",
    "                      'community_area_name','pdistricts_name', 'district','crime_classification',\n",
    "                      'season','parts_of_day','weekofday']]"
   ]
  },
  {
   "cell_type": "code",
   "execution_count": 8,
   "metadata": {},
   "outputs": [
    {
     "data": {
      "text/html": [
       "<div>\n",
       "<style scoped>\n",
       "    .dataframe tbody tr th:only-of-type {\n",
       "        vertical-align: middle;\n",
       "    }\n",
       "\n",
       "    .dataframe tbody tr th {\n",
       "        vertical-align: top;\n",
       "    }\n",
       "\n",
       "    .dataframe thead th {\n",
       "        text-align: right;\n",
       "    }\n",
       "</style>\n",
       "<table border=\"1\" class=\"dataframe\">\n",
       "  <thead>\n",
       "    <tr style=\"text-align: right;\">\n",
       "      <th></th>\n",
       "      <th>IL_crime_code</th>\n",
       "      <th>crime_description</th>\n",
       "      <th>location_description</th>\n",
       "      <th>community_area_name</th>\n",
       "      <th>pdistricts_name</th>\n",
       "      <th>district</th>\n",
       "      <th>crime_classification</th>\n",
       "      <th>season</th>\n",
       "      <th>parts_of_day</th>\n",
       "      <th>weekofday</th>\n",
       "    </tr>\n",
       "  </thead>\n",
       "  <tbody>\n",
       "    <tr>\n",
       "      <th>0</th>\n",
       "      <td>051A</td>\n",
       "      <td>aggravated: handgun</td>\n",
       "      <td>street</td>\n",
       "      <td>North Lawndale Chicago</td>\n",
       "      <td>Harrison</td>\n",
       "      <td>West Side</td>\n",
       "      <td>violent_offenses</td>\n",
       "      <td>spring</td>\n",
       "      <td>night</td>\n",
       "      <td>friday</td>\n",
       "    </tr>\n",
       "    <tr>\n",
       "      <th>1</th>\n",
       "      <td>0910</td>\n",
       "      <td>automobile</td>\n",
       "      <td>residential driveway</td>\n",
       "      <td>North Lawndale Chicago</td>\n",
       "      <td>Near West</td>\n",
       "      <td>West Side</td>\n",
       "      <td>theft</td>\n",
       "      <td>spring</td>\n",
       "      <td>night</td>\n",
       "      <td>friday</td>\n",
       "    </tr>\n",
       "    <tr>\n",
       "      <th>2</th>\n",
       "      <td>2820</td>\n",
       "      <td>telephone threat</td>\n",
       "      <td>apartment</td>\n",
       "      <td>North Lawndale Chicago</td>\n",
       "      <td>Near West</td>\n",
       "      <td>West Side</td>\n",
       "      <td>general_offenses</td>\n",
       "      <td>spring</td>\n",
       "      <td>night</td>\n",
       "      <td>friday</td>\n",
       "    </tr>\n",
       "    <tr>\n",
       "      <th>3</th>\n",
       "      <td>0810</td>\n",
       "      <td>over $500</td>\n",
       "      <td>hotel</td>\n",
       "      <td>North Lawndale Chicago</td>\n",
       "      <td>Near West</td>\n",
       "      <td>West Side</td>\n",
       "      <td>theft</td>\n",
       "      <td>spring</td>\n",
       "      <td>night</td>\n",
       "      <td>friday</td>\n",
       "    </tr>\n",
       "    <tr>\n",
       "      <th>4</th>\n",
       "      <td>1320</td>\n",
       "      <td>to vehicle</td>\n",
       "      <td>street</td>\n",
       "      <td>North Lawndale Chicago</td>\n",
       "      <td>Central</td>\n",
       "      <td>West Side</td>\n",
       "      <td>criminal_damage</td>\n",
       "      <td>spring</td>\n",
       "      <td>night</td>\n",
       "      <td>friday</td>\n",
       "    </tr>\n",
       "  </tbody>\n",
       "</table>\n",
       "</div>"
      ],
      "text/plain": [
       "  IL_crime_code    crime_description  location_description  \\\n",
       "0          051A  aggravated: handgun                street   \n",
       "1          0910           automobile  residential driveway   \n",
       "2          2820     telephone threat             apartment   \n",
       "3          0810            over $500                 hotel   \n",
       "4          1320           to vehicle                street   \n",
       "\n",
       "      community_area_name pdistricts_name   district crime_classification  \\\n",
       "0  North Lawndale Chicago        Harrison  West Side     violent_offenses   \n",
       "1  North Lawndale Chicago       Near West  West Side                theft   \n",
       "2  North Lawndale Chicago       Near West  West Side     general_offenses   \n",
       "3  North Lawndale Chicago       Near West  West Side                theft   \n",
       "4  North Lawndale Chicago         Central  West Side      criminal_damage   \n",
       "\n",
       "   season parts_of_day weekofday  \n",
       "0  spring        night    friday  \n",
       "1  spring        night    friday  \n",
       "2  spring        night    friday  \n",
       "3  spring        night    friday  \n",
       "4  spring        night    friday  "
      ]
     },
     "execution_count": 8,
     "metadata": {},
     "output_type": "execute_result"
    }
   ],
   "source": [
    "check1.head()"
   ]
  },
  {
   "cell_type": "code",
   "execution_count": 9,
   "metadata": {},
   "outputs": [
    {
     "name": "stdout",
     "output_type": "stream",
     "text": [
      "CPU times: user 6min 21s, sys: 3min 26s, total: 9min 48s\n",
      "Wall time: 12min 3s\n"
     ]
    }
   ],
   "source": [
    "%%time\n",
    "# Define function for matrix for Cramer's V test\n",
    "def cramers_v(x, y):\n",
    "    confusion_matrix = pd.crosstab(x,y)\n",
    "    chi2 = stats.chi2_contingency(confusion_matrix)[0]\n",
    "    n = confusion_matrix.sum().sum()\n",
    "    phi2 = chi2/n\n",
    "    r,k = confusion_matrix.shape\n",
    "    phi2corr = max(0, phi2-((k-1)*(r-1))/(n-1))\n",
    "    rcorr = r-((r-1)**2)/(n-1)\n",
    "    kcorr = k-((k-1)**2)/(n-1)\n",
    "    return np.sqrt(phi2corr/min((kcorr-1),(rcorr-1)))\n",
    "\n",
    "def cramers_v_cross(df):\n",
    "    columns = df.columns\n",
    "    chi2_vals = dict()\n",
    "    for col in columns:\n",
    "        chi2_vals[col] = [cramers_v(df[col], df[column]) for column in df.columns]\n",
    "    return pd.DataFrame(chi2_vals, index=columns, columns=columns)\n",
    "\n",
    "cramers = cramers_v_cross(cor_check)"
   ]
  },
  {
   "cell_type": "code",
   "execution_count": 10,
   "metadata": {},
   "outputs": [
    {
     "data": {
      "image/png": "[encoded data removed]",
      "text/plain": [
       "<Figure size 720x432 with 2 Axes>"
      ]
     },
     "metadata": {
      "needs_background": "light"
     },
     "output_type": "display_data"
    }
   ],
   "source": [
    "fig, ax = plt.subplots(1,1, figsize=(10,6))\n",
    "\n",
    "mask = np.zeros_like(cramers, dtype=np.bool)\n",
    "mask[np.triu_indices_from(mask)] = True\n",
    "\n",
    "sns.heatmap(cramers, mask=mask, annot=True, fmt='.1g', vmin=0, vmax=1)\n",
    "plt.show()"
   ]
  },
  {
   "cell_type": "markdown",
   "metadata": {},
   "source": [
    "From above we can see that :\n",
    "\n",
    "1. **address** is high correlated with **community_area_name**, **district** and, **pdistricts_name**.\n",
    "2. **IL_crime_code** is high correlated with **crime_classification**,**FBI_code**,**crime_description** and, **crime_type**.\n",
    "3. **crime_type** is highly correlated with **crime_description**,**crime_classification** and, **FBI_code**.\n",
    "4. **community_area_name** is highly correlated with **district** and, **pdistricts_name**.\n",
    "5. **pdistricts_name** is highly correlated with **district**.\n",
    "\n",
    " \n",
    "NOTE: As it can be seen data sufferes from the problem of multicollinearity. So its wise to take one varibale out of these varaibles."
   ]
  },
  {
   "cell_type": "code",
   "execution_count": 11,
   "metadata": {},
   "outputs": [
    {
     "data": {
      "text/plain": [
       "<matplotlib.axes._subplots.AxesSubplot at 0x1a1c96ea90>"
      ]
     },
     "execution_count": 11,
     "metadata": {},
     "output_type": "execute_result"
    },
    {
     "data": {
      "image/png": "[encoded data removed]",
      "text/plain": [
       "<Figure size 432x288 with 2 Axes>"
      ]
     },
     "metadata": {
      "needs_background": "light"
     },
     "output_type": "display_data"
    }
   ],
   "source": [
    "sns.heatmap(crimes.corr())"
   ]
  },
  {
   "cell_type": "markdown",
   "metadata": {},
   "source": [
    "## 2.  Working with geopandas to check for outliers - if any"
   ]
  },
  {
   "cell_type": "code",
   "execution_count": 14,
   "metadata": {},
   "outputs": [],
   "source": [
    "import geopandas"
   ]
  },
  {
   "cell_type": "code",
   "execution_count": 15,
   "metadata": {},
   "outputs": [],
   "source": [
    "#!pip install geopandas"
   ]
  },
  {
   "cell_type": "code",
   "execution_count": 16,
   "metadata": {},
   "outputs": [],
   "source": [
    "geo_plot = crimes"
   ]
  },
  {
   "cell_type": "code",
   "execution_count": 17,
   "metadata": {},
   "outputs": [
    {
     "data": {
      "text/html": [
       "<div>\n",
       "<style scoped>\n",
       "    .dataframe tbody tr th:only-of-type {\n",
       "        vertical-align: middle;\n",
       "    }\n",
       "\n",
       "    .dataframe tbody tr th {\n",
       "        vertical-align: top;\n",
       "    }\n",
       "\n",
       "    .dataframe thead th {\n",
       "        text-align: right;\n",
       "    }\n",
       "</style>\n",
       "<table border=\"1\" class=\"dataframe\">\n",
       "  <thead>\n",
       "    <tr style=\"text-align: right;\">\n",
       "      <th></th>\n",
       "      <th>datetime</th>\n",
       "      <th>address</th>\n",
       "      <th>IL_crime_code</th>\n",
       "      <th>crime_type</th>\n",
       "      <th>crime_description</th>\n",
       "      <th>location_description</th>\n",
       "      <th>arrests</th>\n",
       "      <th>domestic_violence</th>\n",
       "      <th>pbeats</th>\n",
       "      <th>pdistricts</th>\n",
       "      <th>wards</th>\n",
       "      <th>community_areas</th>\n",
       "      <th>FBI_code</th>\n",
       "      <th>year</th>\n",
       "      <th>latitude</th>\n",
       "      <th>longitude</th>\n",
       "      <th>census_tracts</th>\n",
       "      <th>month</th>\n",
       "      <th>day</th>\n",
       "      <th>hour</th>\n",
       "      <th>minute</th>\n",
       "      <th>weekofday</th>\n",
       "      <th>community_area_name</th>\n",
       "      <th>pdistricts_name</th>\n",
       "      <th>district</th>\n",
       "      <th>crime_classification</th>\n",
       "      <th>season</th>\n",
       "      <th>parts_of_day</th>\n",
       "    </tr>\n",
       "  </thead>\n",
       "  <tbody>\n",
       "    <tr>\n",
       "      <th>0</th>\n",
       "      <td>2019-04-19 23:48:00</td>\n",
       "      <td>024xx w van buren st</td>\n",
       "      <td>051A</td>\n",
       "      <td>assault</td>\n",
       "      <td>aggravated: handgun</td>\n",
       "      <td>street</td>\n",
       "      <td>False</td>\n",
       "      <td>False</td>\n",
       "      <td>146.0</td>\n",
       "      <td>11</td>\n",
       "      <td>23.0</td>\n",
       "      <td>29</td>\n",
       "      <td>04A</td>\n",
       "      <td>2019.0</td>\n",
       "      <td>41.876072</td>\n",
       "      <td>-87.687615</td>\n",
       "      <td>756.0</td>\n",
       "      <td>4</td>\n",
       "      <td>19</td>\n",
       "      <td>23</td>\n",
       "      <td>48</td>\n",
       "      <td>friday</td>\n",
       "      <td>North Lawndale Chicago</td>\n",
       "      <td>Harrison</td>\n",
       "      <td>West Side</td>\n",
       "      <td>violent_offenses</td>\n",
       "      <td>spring</td>\n",
       "      <td>night</td>\n",
       "    </tr>\n",
       "    <tr>\n",
       "      <th>1</th>\n",
       "      <td>2019-04-19 23:19:00</td>\n",
       "      <td>025xx w washington blvd</td>\n",
       "      <td>0910</td>\n",
       "      <td>motor vehicle theft</td>\n",
       "      <td>automobile</td>\n",
       "      <td>residential driveway</td>\n",
       "      <td>False</td>\n",
       "      <td>False</td>\n",
       "      <td>77.0</td>\n",
       "      <td>12</td>\n",
       "      <td>46.0</td>\n",
       "      <td>29</td>\n",
       "      <td>07</td>\n",
       "      <td>2019.0</td>\n",
       "      <td>41.882972</td>\n",
       "      <td>-87.689778</td>\n",
       "      <td>37.0</td>\n",
       "      <td>4</td>\n",
       "      <td>19</td>\n",
       "      <td>23</td>\n",
       "      <td>19</td>\n",
       "      <td>friday</td>\n",
       "      <td>North Lawndale Chicago</td>\n",
       "      <td>Near West</td>\n",
       "      <td>West Side</td>\n",
       "      <td>theft</td>\n",
       "      <td>spring</td>\n",
       "      <td>night</td>\n",
       "    </tr>\n",
       "    <tr>\n",
       "      <th>2</th>\n",
       "      <td>2019-04-19 23:15:00</td>\n",
       "      <td>002xx s hoyne ave</td>\n",
       "      <td>2820</td>\n",
       "      <td>general offense</td>\n",
       "      <td>telephone threat</td>\n",
       "      <td>apartment</td>\n",
       "      <td>False</td>\n",
       "      <td>True</td>\n",
       "      <td>139.0</td>\n",
       "      <td>12</td>\n",
       "      <td>46.0</td>\n",
       "      <td>29</td>\n",
       "      <td>08A</td>\n",
       "      <td>2019.0</td>\n",
       "      <td>41.878279</td>\n",
       "      <td>-87.679011</td>\n",
       "      <td>89.0</td>\n",
       "      <td>4</td>\n",
       "      <td>19</td>\n",
       "      <td>23</td>\n",
       "      <td>15</td>\n",
       "      <td>friday</td>\n",
       "      <td>North Lawndale Chicago</td>\n",
       "      <td>Near West</td>\n",
       "      <td>West Side</td>\n",
       "      <td>general_offenses</td>\n",
       "      <td>spring</td>\n",
       "      <td>night</td>\n",
       "    </tr>\n",
       "    <tr>\n",
       "      <th>3</th>\n",
       "      <td>2019-04-19 23:00:00</td>\n",
       "      <td>0000x s halsted st</td>\n",
       "      <td>0810</td>\n",
       "      <td>theft</td>\n",
       "      <td>over $500</td>\n",
       "      <td>hotel</td>\n",
       "      <td>False</td>\n",
       "      <td>False</td>\n",
       "      <td>95.0</td>\n",
       "      <td>12</td>\n",
       "      <td>46.0</td>\n",
       "      <td>29</td>\n",
       "      <td>06</td>\n",
       "      <td>2019.0</td>\n",
       "      <td>41.881299</td>\n",
       "      <td>-87.647345</td>\n",
       "      <td>786.0</td>\n",
       "      <td>4</td>\n",
       "      <td>19</td>\n",
       "      <td>23</td>\n",
       "      <td>0</td>\n",
       "      <td>friday</td>\n",
       "      <td>North Lawndale Chicago</td>\n",
       "      <td>Near West</td>\n",
       "      <td>West Side</td>\n",
       "      <td>theft</td>\n",
       "      <td>spring</td>\n",
       "      <td>night</td>\n",
       "    </tr>\n",
       "    <tr>\n",
       "      <th>4</th>\n",
       "      <td>2019-04-19 22:40:00</td>\n",
       "      <td>005xx w 14th pl</td>\n",
       "      <td>1320</td>\n",
       "      <td>criminal damage</td>\n",
       "      <td>to vehicle</td>\n",
       "      <td>street</td>\n",
       "      <td>False</td>\n",
       "      <td>False</td>\n",
       "      <td>147.0</td>\n",
       "      <td>1</td>\n",
       "      <td>48.0</td>\n",
       "      <td>29</td>\n",
       "      <td>14</td>\n",
       "      <td>2019.0</td>\n",
       "      <td>41.862452</td>\n",
       "      <td>-87.640013</td>\n",
       "      <td>97.0</td>\n",
       "      <td>4</td>\n",
       "      <td>19</td>\n",
       "      <td>22</td>\n",
       "      <td>40</td>\n",
       "      <td>friday</td>\n",
       "      <td>North Lawndale Chicago</td>\n",
       "      <td>Central</td>\n",
       "      <td>West Side</td>\n",
       "      <td>criminal_damage</td>\n",
       "      <td>spring</td>\n",
       "      <td>night</td>\n",
       "    </tr>\n",
       "  </tbody>\n",
       "</table>\n",
       "</div>"
      ],
      "text/plain": [
       "              datetime                  address IL_crime_code  \\\n",
       "0  2019-04-19 23:48:00     024xx w van buren st          051A   \n",
       "1  2019-04-19 23:19:00  025xx w washington blvd          0910   \n",
       "2  2019-04-19 23:15:00        002xx s hoyne ave          2820   \n",
       "3  2019-04-19 23:00:00       0000x s halsted st          0810   \n",
       "4  2019-04-19 22:40:00          005xx w 14th pl          1320   \n",
       "\n",
       "            crime_type    crime_description  location_description  arrests  \\\n",
       "0              assault  aggravated: handgun                street    False   \n",
       "1  motor vehicle theft           automobile  residential driveway    False   \n",
       "2      general offense     telephone threat             apartment    False   \n",
       "3                theft            over $500                 hotel    False   \n",
       "4      criminal damage           to vehicle                street    False   \n",
       "\n",
       "   domestic_violence  pbeats  pdistricts  wards  community_areas FBI_code  \\\n",
       "0              False   146.0          11   23.0               29      04A   \n",
       "1              False    77.0          12   46.0               29       07   \n",
       "2               True   139.0          12   46.0               29      08A   \n",
       "3              False    95.0          12   46.0               29       06   \n",
       "4              False   147.0           1   48.0               29       14   \n",
       "\n",
       "     year   latitude  longitude  census_tracts  month  day  hour  minute  \\\n",
       "0  2019.0  41.876072 -87.687615          756.0      4   19    23      48   \n",
       "1  2019.0  41.882972 -87.689778           37.0      4   19    23      19   \n",
       "2  2019.0  41.878279 -87.679011           89.0      4   19    23      15   \n",
       "3  2019.0  41.881299 -87.647345          786.0      4   19    23       0   \n",
       "4  2019.0  41.862452 -87.640013           97.0      4   19    22      40   \n",
       "\n",
       "  weekofday     community_area_name pdistricts_name   district  \\\n",
       "0    friday  North Lawndale Chicago        Harrison  West Side   \n",
       "1    friday  North Lawndale Chicago       Near West  West Side   \n",
       "2    friday  North Lawndale Chicago       Near West  West Side   \n",
       "3    friday  North Lawndale Chicago       Near West  West Side   \n",
       "4    friday  North Lawndale Chicago         Central  West Side   \n",
       "\n",
       "  crime_classification  season parts_of_day  \n",
       "0     violent_offenses  spring        night  \n",
       "1                theft  spring        night  \n",
       "2     general_offenses  spring        night  \n",
       "3                theft  spring        night  \n",
       "4      criminal_damage  spring        night  "
      ]
     },
     "execution_count": 17,
     "metadata": {},
     "output_type": "execute_result"
    }
   ],
   "source": [
    "crimes.head()"
   ]
  },
  {
   "cell_type": "code",
   "execution_count": 18,
   "metadata": {},
   "outputs": [
    {
     "data": {
      "text/plain": [
       "Index(['datetime', 'address', 'IL_crime_code', 'crime_type',\n",
       "       'crime_description', 'location_description', 'arrests',\n",
       "       'domestic_violence', 'pbeats', 'pdistricts', 'wards', 'community_areas',\n",
       "       'FBI_code', 'year', 'latitude', 'longitude', 'census_tracts', 'month',\n",
       "       'day', 'hour', 'minute', 'weekofday', 'community_area_name',\n",
       "       'pdistricts_name', 'district', 'crime_classification', 'season',\n",
       "       'parts_of_day'],\n",
       "      dtype='object')"
      ]
     },
     "execution_count": 18,
     "metadata": {},
     "output_type": "execute_result"
    }
   ],
   "source": [
    "geo_plot.columns"
   ]
  },
  {
   "cell_type": "code",
   "execution_count": 20,
   "metadata": {},
   "outputs": [],
   "source": [
    "gdf= geopandas.GeoDataFrame(geo_plot,geometry= geopandas.points_from_xy(geo_plot.latitude,geo_plot.longitude))"
   ]
  },
  {
   "cell_type": "code",
   "execution_count": 22,
   "metadata": {},
   "outputs": [
    {
     "data": {
      "image/png": "[encoded data removed]",
      "text/plain": [
       "<Figure size 432x288 with 1 Axes>"
      ]
     },
     "metadata": {
      "needs_background": "light"
     },
     "output_type": "display_data"
    }
   ],
   "source": [
    "world = geopandas.read_file(geopandas.datasets.get_path('naturalearth_lowres'))\n",
    "cities = geopandas.read_file(geopandas.datasets.get_path('naturalearth_cities'))\n",
    "\n",
    "# We restrict to Chicago.\n",
    "ax = world[world.continent == 'iilinois'].plot(color='white', edgecolor='black')\n",
    "\n",
    "# We can now plot our GeoDataFrame.\n",
    "gdf.plot(ax=ax, marker='o', markersize=2)\n",
    "\n",
    "plt.show()"
   ]
  },
  {
   "cell_type": "markdown",
   "metadata": {},
   "source": [
    "#### Checking for outliers if any\n",
    "\n",
    "Chicago latitute is from 41.79 to 41.89"
   ]
  },
  {
   "cell_type": "code",
   "execution_count": 23,
   "metadata": {},
   "outputs": [
    {
     "name": "stdout",
     "output_type": "stream",
     "text": [
      "0\n"
     ]
    }
   ],
   "source": [
    "print(geo_plot.loc[(geo_plot.latitude < 41.79 ) & (geo_plot.latitude > 41.89 )].count()[0])"
   ]
  },
  {
   "cell_type": "markdown",
   "metadata": {},
   "source": [
    "## 3. Looking at past three years crime"
   ]
  },
  {
   "cell_type": "code",
   "execution_count": 16,
   "metadata": {},
   "outputs": [],
   "source": [
    "year=['2017','2018','2019']"
   ]
  },
  {
   "cell_type": "code",
   "execution_count": 18,
   "metadata": {},
   "outputs": [],
   "source": [
    "crimes1=crimes[crimes.year.isin(year)]"
   ]
  },
  {
   "cell_type": "code",
   "execution_count": 19,
   "metadata": {},
   "outputs": [
    {
     "data": {
      "text/plain": [
       "theft                       243065\n",
       "violent_offenses            152488\n",
       "criminal_damage              77030\n",
       "general_offenses             38292\n",
       "drug_offenses                28093\n",
       "iillegal_weapon_offenses     11825\n",
       "public_indecency              7263\n",
       "sexual_offenses               7226\n",
       "child_abuse                   4863\n",
       "homicide                      1319\n",
       "kidnapping                     424\n",
       "Name: crime_classification, dtype: int64"
      ]
     },
     "execution_count": 19,
     "metadata": {},
     "output_type": "execute_result"
    }
   ],
   "source": [
    "crimes1.crime_classification.value_counts()\n"
   ]
  },
  {
   "cell_type": "code",
   "execution_count": 20,
   "metadata": {},
   "outputs": [],
   "source": [
    "category=['violent_offenses','drug_offenses','iillegal_weapon_offenses','sexual_offenses']"
   ]
  },
  {
   "cell_type": "code",
   "execution_count": 21,
   "metadata": {},
   "outputs": [],
   "source": [
    "crimes1=crimes1[crimes.crime_classification.isin(category)]"
   ]
  },
  {
   "cell_type": "code",
   "execution_count": 22,
   "metadata": {},
   "outputs": [
    {
     "data": {
      "text/plain": [
       "violent_offenses            152488\n",
       "drug_offenses                28093\n",
       "iillegal_weapon_offenses     11825\n",
       "sexual_offenses               7226\n",
       "Name: crime_classification, dtype: int64"
      ]
     },
     "execution_count": 22,
     "metadata": {},
     "output_type": "execute_result"
    }
   ],
   "source": [
    "crimes1.crime_classification.value_counts()"
   ]
  },
  {
   "cell_type": "code",
   "execution_count": 23,
   "metadata": {},
   "outputs": [],
   "source": [
    "crimes2= crimes1.loc[:,['location_description','season','parts_of_day','weekofday','community_area_name','crime_classification']]"
   ]
  },
  {
   "cell_type": "code",
   "execution_count": 25,
   "metadata": {},
   "outputs": [],
   "source": [
    "crimes2.drop_duplicates(subset=['location_description','season','parts_of_day','weekofday','community_area_name','crime_classification'],inplace=True)"
   ]
  },
  {
   "cell_type": "code",
   "execution_count": 99,
   "metadata": {},
   "outputs": [],
   "source": [
    "crimes2.to_csv('crime_data_model_ready.csv')"
   ]
  }
 ],
 "metadata": {
  "kernelspec": {
   "display_name": "Python 3",
   "language": "python",
   "name": "python3"
  },
  "language_info": {
   "codemirror_mode": {
    "name": "ipython",
    "version": 3
   },
   "file_extension": ".py",
   "mimetype": "text/x-python",
   "name": "python",
   "nbconvert_exporter": "python",
   "pygments_lexer": "ipython3",
   "version": "3.7.1"
  }
 },
 "nbformat": 4,
 "nbformat_minor": 2
}
