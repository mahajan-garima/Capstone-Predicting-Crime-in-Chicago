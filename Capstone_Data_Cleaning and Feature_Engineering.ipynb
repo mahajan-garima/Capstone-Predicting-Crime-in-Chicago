{
 "cells": [
  {
   "cell_type": "markdown",
   "metadata": {},
   "source": [
    "# PREDICTING CRIME IN CHICAGO"
   ]
  },
  {
   "cell_type": "markdown",
   "metadata": {},
   "source": [
    "#### Importing the necessary Libraries"
   ]
  },
  {
   "cell_type": "code",
   "execution_count": 1,
   "metadata": {},
   "outputs": [],
   "source": [
    "import pandas as pd\n",
    "import seaborn as sns\n",
    "import numpy as np\n",
    "from datetime import datetime\n",
    "import re\n",
    "import string\n",
    "import warnings\n",
    "import matplotlib.pyplot as plt\n",
    "\n",
    "warnings.filterwarnings(\"ignore\")\n",
    "plt.style.use('fivethirtyeight')"
   ]
  },
  {
   "cell_type": "markdown",
   "metadata": {},
   "source": [
    "## 1. Loading the dataset"
   ]
  },
  {
   "cell_type": "code",
   "execution_count": 2,
   "metadata": {},
   "outputs": [],
   "source": [
    "path = ('./Crimes.csv')"
   ]
  },
  {
   "cell_type": "code",
   "execution_count": 3,
   "metadata": {},
   "outputs": [],
   "source": [
    "crime = pd.read_csv(path)"
   ]
  },
  {
   "cell_type": "code",
   "execution_count": 4,
   "metadata": {},
   "outputs": [],
   "source": [
    "crime.shape"
   ]
  },
  {
   "cell_type": "markdown",
   "metadata": {},
   "source": [
    "> #### 1.1 Looking at the columns of the dataset"
   ]
  },
  {
   "cell_type": "code",
   "execution_count": 19,
   "metadata": {},
   "outputs": [],
   "source": [
    "crime.columns()"
   ]
  },
  {
   "cell_type": "markdown",
   "metadata": {},
   "source": [
    "> #### 1.2 Looking at the Top 5 observations "
   ]
  },
  {
   "cell_type": "code",
   "execution_count": 6,
   "metadata": {},
   "outputs": [],
   "source": [
    "crime.head()"
   ]
  },
  {
   "cell_type": "markdown",
   "metadata": {},
   "source": [
    "> #### 1.3 Dropping the duplicates"
   ]
  },
  {
   "cell_type": "code",
   "execution_count": 7,
   "metadata": {},
   "outputs": [],
   "source": [
    "crime.drop_duplicates(subset=['Date', 'Block', 'IUCR', 'Primary Type',\n",
    "       'Description', 'Location Description', 'Arrest', 'Domestic', 'Beat',\n",
    "       'District', 'Ward', 'Community Area', 'FBI Code', 'X Coordinate',\n",
    "       'Y Coordinate', 'Year', 'Updated On', 'Latitude', 'Longitude',\n",
    "       'Location', 'Historical Wards 2003-2015', 'Zip Codes',\n",
    "       'Community Areas', 'Census Tracts', 'Wards', 'Boundaries - ZIP Codes',\n",
    "       'Police Districts', 'Police Beats'], keep='first', inplace= True)"
   ]
  },
  {
   "cell_type": "code",
   "execution_count": 8,
   "metadata": {},
   "outputs": [],
   "source": [
    "crime.shape"
   ]
  },
  {
   "cell_type": "markdown",
   "metadata": {},
   "source": [
    "> ## 2. Data Dictionary"
   ]
  },
  {
   "cell_type": "markdown",
   "metadata": {},
   "source": [
    "--------------------\n",
    "\n",
    "1. **ID** - Unique identifier for the record. \n",
    "\n",
    "2. **Case Number** - The Chicago Police Department RD Number (Records Division Number), which is unique to the incident.\n",
    "\n",
    "3. **Date** - Date when the incident occurred. this is sometimes a best estimate.\n",
    "\n",
    "4. **Block** - The partially redacted address where the incident occurred, placing it on the same block as the actual address.\n",
    "\n",
    "5. **IUCR** - The Illinois Unifrom Crime Reporting code. This is directly linked to the Primary Type and Description.\n",
    "\n",
    "6. **Primary Type** - The primary description of the IUCR code.\n",
    "\n",
    "7. **Description** - The secondary description of the IUCR code, a subcategory of the primary description.\n",
    "\n",
    "8. **Location Description** - Description of the location where the incident occurred.\n",
    "\n",
    "9. **Arrest** - Indicates whether an arrest was made.\n",
    "\n",
    "10. **Domestic** - Indicates whether the incident was domestic-related as defined by the Illinois Domestic Violence Act.\n",
    "\n",
    "11. **Beat** - Indicates the beat where the incident occurred. A beat is the smallest police geographic area – each beat has a dedicated police beat car. Three to five beats make up a police sector, and three sectors make up a police district. The Chicago Police Department has 22 police districts.  \n",
    "\n",
    "12. **District** - Indicates the police district where the incident occurred. \n",
    "\n",
    "13. **Ward** - The ward (City Council district) where the incident occurred. \n",
    "\n",
    "14. **Community Area** - Indicates the community area where the incident occurred. Chicago has 77 community areas.\n",
    "\n",
    "15. **FBI Code** - Indicates the crime classification as outlined in the FBI's National Incident-Based Reporting System (NIBRS). \n",
    "\n",
    "16. **X Coordinate** - The x coordinate of the location where the incident occurred in State Plane Illinois East NAD 1983 projection. This location is shifted from the actual location for partial redaction but falls on the same block.\n",
    "\n",
    "17. **Y Coordinate** - The y coordinate of the location where the incident occurred in State Plane Illinois East NAD 1983 projection. This location is shifted from the actual location for partial redaction but falls on the same block.\n",
    "\n",
    "18. **Year** - Year the incident occurred.\n",
    "\n",
    "19. **Updated On** - Date and time the record was last updated.\n",
    "\n",
    "20. **Latitude** - The latitude of the location where the incident occurred. This location is shifted from the actual location for partial redaction but falls on the same block.\n",
    "\n",
    "21. **Longitude** - The longitude of the location where the incident occurred. This location is shifted from the actual location for partial redaction but falls on the same block.\n",
    "\n",
    "22. **Location** - The location where the incident occurred in a format that allows for creation of maps and other geographic operations on this data portal. This location is shifted from the actual location for partial redaction but falls on the same block.\n",
    "\n",
    "---------"
   ]
  },
  {
   "cell_type": "markdown",
   "metadata": {},
   "source": [
    "## 3. Data Cleaning"
   ]
  },
  {
   "cell_type": "markdown",
   "metadata": {},
   "source": [
    "> #### 3.1 Selecting necessary Columns"
   ]
  },
  {
   "cell_type": "code",
   "execution_count": 9,
   "metadata": {
    "scrolled": true
   },
   "outputs": [],
   "source": [
    "pd.set_option(\"display.max_columns\", 30)\n",
    "pd.set_option(\"display.max_rows\", 100)\n",
    "crime.head(2)"
   ]
  },
  {
   "cell_type": "code",
   "execution_count": 10,
   "metadata": {},
   "outputs": [],
   "source": [
    "crimes = crime.loc[:,['Date',\n",
    "                      'Block',\n",
    "                      'IUCR',\n",
    "                      'Primary Type',\n",
    "                      'Description',\n",
    "                      'Location Description',\n",
    "                      'Arrest', \n",
    "                      'Domestic', \n",
    "                      'Police Beats',\n",
    "                      'District', \n",
    "                      'Wards', \n",
    "                      'Community Areas', \n",
    "                      'FBI Code', \n",
    "                      'Year',\n",
    "                      'Latitude',\n",
    "                      'Longitude',\n",
    "                     'Census Tracts']]"
   ]
  },
  {
   "cell_type": "markdown",
   "metadata": {},
   "source": [
    "> #### 3.2 Renaming the columns"
   ]
  },
  {
   "cell_type": "code",
   "execution_count": 11,
   "metadata": {},
   "outputs": [],
   "source": [
    "crimes.rename(columns={'Date':'datetime',\n",
    "                       'Block':'address', \n",
    "                       'IUCR': 'IL_crime_code', \n",
    "                       'Primary Type':'crime_type',\n",
    "                       'Description':'crime_description',\n",
    "                       'Location Description':'location_description',\n",
    "                       'Arrest':'arrests',\n",
    "                       'Domestic':'domestic_violence',\n",
    "                       'Police Beats': 'pbeats',\n",
    "                       'District':'pdistricts',\n",
    "                       'Wards': 'wards',\n",
    "                       'Community Areas': 'community_areas',\n",
    "                       'FBI Code': 'FBI_code',\n",
    "                       'Year':'year', \n",
    "                       'Latitude':'latitude', \n",
    "                       'Longitude':'longitude',\n",
    "                      'Census Tracts':'census_tracts'}, inplace= True)"
   ]
  },
  {
   "cell_type": "code",
   "execution_count": 20,
   "metadata": {},
   "outputs": [],
   "source": [
    "columns=pd.DataFrame(crimes.columns)"
   ]
  },
  {
   "cell_type": "code",
   "execution_count": 17,
   "metadata": {},
   "outputs": [],
   "source": [
    "columns"
   ]
  },
  {
   "cell_type": "code",
   "execution_count": 21,
   "metadata": {},
   "outputs": [],
   "source": [
    "crimes.head(2)"
   ]
  },
  {
   "cell_type": "code",
   "execution_count": 14,
   "metadata": {},
   "outputs": [
    {
     "data": {
      "text/plain": [
       "(1943346, 17)"
      ]
     },
     "execution_count": 14,
     "metadata": {},
     "output_type": "execute_result"
    }
   ],
   "source": [
    "crimes.shape"
   ]
  },
  {
   "cell_type": "markdown",
   "metadata": {},
   "source": [
    "> #### 3.3 Keeping every column in lower case"
   ]
  },
  {
   "cell_type": "code",
   "execution_count": 15,
   "metadata": {},
   "outputs": [],
   "source": [
    "crimes['address']=crimes.address.str.lower()\n",
    "crimes['crime_type']=crimes.crime_type.str.lower()\n",
    "crimes['crime_description']=crimes.crime_description.str.lower()\n",
    "crimes['location_description']=crimes.location_description.str.lower()"
   ]
  },
  {
   "cell_type": "markdown",
   "metadata": {},
   "source": [
    "> #### 3.4 Checking the columns having null values"
   ]
  },
  {
   "cell_type": "code",
   "execution_count": 16,
   "metadata": {},
   "outputs": [],
   "source": [
    "null = pd.DataFrame(crimes.isnull().sum(), columns=['total_null'])"
   ]
  },
  {
   "cell_type": "code",
   "execution_count": 17,
   "metadata": {},
   "outputs": [],
   "source": [
    "null['null_%age'] = round((crimes.isnull().sum())/len(crimes),2)"
   ]
  },
  {
   "cell_type": "code",
   "execution_count": 18,
   "metadata": {},
   "outputs": [
    {
     "data": {
      "text/html": [
       "<div>\n",
       "<style scoped>\n",
       "    .dataframe tbody tr th:only-of-type {\n",
       "        vertical-align: middle;\n",
       "    }\n",
       "\n",
       "    .dataframe tbody tr th {\n",
       "        vertical-align: top;\n",
       "    }\n",
       "\n",
       "    .dataframe thead th {\n",
       "        text-align: right;\n",
       "    }\n",
       "</style>\n",
       "<table border=\"1\" class=\"dataframe\">\n",
       "  <thead>\n",
       "    <tr style=\"text-align: right;\">\n",
       "      <th></th>\n",
       "      <th>total_null</th>\n",
       "      <th>null_%age</th>\n",
       "    </tr>\n",
       "  </thead>\n",
       "  <tbody>\n",
       "    <tr>\n",
       "      <th>datetime</th>\n",
       "      <td>1</td>\n",
       "      <td>0.00</td>\n",
       "    </tr>\n",
       "    <tr>\n",
       "      <th>address</th>\n",
       "      <td>1</td>\n",
       "      <td>0.00</td>\n",
       "    </tr>\n",
       "    <tr>\n",
       "      <th>IL_crime_code</th>\n",
       "      <td>1</td>\n",
       "      <td>0.00</td>\n",
       "    </tr>\n",
       "    <tr>\n",
       "      <th>crime_type</th>\n",
       "      <td>1</td>\n",
       "      <td>0.00</td>\n",
       "    </tr>\n",
       "    <tr>\n",
       "      <th>crime_description</th>\n",
       "      <td>1</td>\n",
       "      <td>0.00</td>\n",
       "    </tr>\n",
       "    <tr>\n",
       "      <th>location_description</th>\n",
       "      <td>4326</td>\n",
       "      <td>0.00</td>\n",
       "    </tr>\n",
       "    <tr>\n",
       "      <th>arrests</th>\n",
       "      <td>1</td>\n",
       "      <td>0.00</td>\n",
       "    </tr>\n",
       "    <tr>\n",
       "      <th>domestic_violence</th>\n",
       "      <td>1</td>\n",
       "      <td>0.00</td>\n",
       "    </tr>\n",
       "    <tr>\n",
       "      <th>pbeats</th>\n",
       "      <td>22116</td>\n",
       "      <td>0.01</td>\n",
       "    </tr>\n",
       "    <tr>\n",
       "      <th>pdistricts</th>\n",
       "      <td>2</td>\n",
       "      <td>0.00</td>\n",
       "    </tr>\n",
       "    <tr>\n",
       "      <th>wards</th>\n",
       "      <td>22353</td>\n",
       "      <td>0.01</td>\n",
       "    </tr>\n",
       "    <tr>\n",
       "      <th>community_areas</th>\n",
       "      <td>22382</td>\n",
       "      <td>0.01</td>\n",
       "    </tr>\n",
       "    <tr>\n",
       "      <th>FBI_code</th>\n",
       "      <td>1</td>\n",
       "      <td>0.00</td>\n",
       "    </tr>\n",
       "    <tr>\n",
       "      <th>year</th>\n",
       "      <td>1</td>\n",
       "      <td>0.00</td>\n",
       "    </tr>\n",
       "    <tr>\n",
       "      <th>latitude</th>\n",
       "      <td>17279</td>\n",
       "      <td>0.01</td>\n",
       "    </tr>\n",
       "    <tr>\n",
       "      <th>longitude</th>\n",
       "      <td>17279</td>\n",
       "      <td>0.01</td>\n",
       "    </tr>\n",
       "    <tr>\n",
       "      <th>census_tracts</th>\n",
       "      <td>21778</td>\n",
       "      <td>0.01</td>\n",
       "    </tr>\n",
       "  </tbody>\n",
       "</table>\n",
       "</div>"
      ],
      "text/plain": [
       "                      total_null  null_%age\n",
       "datetime                       1       0.00\n",
       "address                        1       0.00\n",
       "IL_crime_code                  1       0.00\n",
       "crime_type                     1       0.00\n",
       "crime_description              1       0.00\n",
       "location_description        4326       0.00\n",
       "arrests                        1       0.00\n",
       "domestic_violence              1       0.00\n",
       "pbeats                     22116       0.01\n",
       "pdistricts                     2       0.00\n",
       "wards                      22353       0.01\n",
       "community_areas            22382       0.01\n",
       "FBI_code                       1       0.00\n",
       "year                           1       0.00\n",
       "latitude                   17279       0.01\n",
       "longitude                  17279       0.01\n",
       "census_tracts              21778       0.01"
      ]
     },
     "execution_count": 18,
     "metadata": {},
     "output_type": "execute_result"
    }
   ],
   "source": [
    "null"
   ]
  },
  {
   "cell_type": "markdown",
   "metadata": {},
   "source": [
    "It's just 0.01 percentage of the total data thats null, so will drop all the null values in the dataset"
   ]
  },
  {
   "cell_type": "code",
   "execution_count": 19,
   "metadata": {},
   "outputs": [],
   "source": [
    "crimes.dropna(inplace=True)"
   ]
  },
  {
   "cell_type": "code",
   "execution_count": 20,
   "metadata": {},
   "outputs": [
    {
     "data": {
      "text/plain": [
       "(1916264, 17)"
      ]
     },
     "execution_count": 20,
     "metadata": {},
     "output_type": "execute_result"
    }
   ],
   "source": [
    "crimes.shape"
   ]
  },
  {
   "cell_type": "markdown",
   "metadata": {},
   "source": [
    "> #### 3.5 Datatypes"
   ]
  },
  {
   "cell_type": "code",
   "execution_count": 21,
   "metadata": {},
   "outputs": [
    {
     "name": "stdout",
     "output_type": "stream",
     "text": [
      "<class 'pandas.core.frame.DataFrame'>\n",
      "Int64Index: 1916264 entries, 0 to 1946348\n",
      "Data columns (total 17 columns):\n",
      "datetime                object\n",
      "address                 object\n",
      "IL_crime_code           object\n",
      "crime_type              object\n",
      "crime_description       object\n",
      "location_description    object\n",
      "arrests                 object\n",
      "domestic_violence       object\n",
      "pbeats                  float64\n",
      "pdistricts              float64\n",
      "wards                   float64\n",
      "community_areas         float64\n",
      "FBI_code                object\n",
      "year                    float64\n",
      "latitude                float64\n",
      "longitude               float64\n",
      "census_tracts           float64\n",
      "dtypes: float64(8), object(9)\n",
      "memory usage: 263.2+ MB\n"
     ]
    }
   ],
   "source": [
    "crimes.info()"
   ]
  },
  {
   "cell_type": "markdown",
   "metadata": {},
   "source": [
    "> #### 3.6 Datatypes of the datetime is convereted to datatime "
   ]
  },
  {
   "cell_type": "code",
   "execution_count": 22,
   "metadata": {},
   "outputs": [
    {
     "name": "stdout",
     "output_type": "stream",
     "text": [
      "CPU times: user 3min 17s, sys: 373 ms, total: 3min 18s\n",
      "Wall time: 3min 18s\n"
     ]
    }
   ],
   "source": [
    "%%time\n",
    "crimes['datetime']= crimes['datetime'].astype('datetime64[ns]')"
   ]
  },
  {
   "cell_type": "markdown",
   "metadata": {},
   "source": [
    "> #### 3.7 Cleaning Location Desription "
   ]
  },
  {
   "cell_type": "code",
   "execution_count": 23,
   "metadata": {},
   "outputs": [],
   "source": [
    "def loc(text):\n",
    "    text = text.replace('-',' ')\n",
    "    text = text.replace('.',' ')\n",
    "    text = text.replace('/',' ')\n",
    "    text = text.replace('(',' ')\n",
    "    text = text.replace(')',' ')\n",
    "    text= text.strip()\n",
    "    return text"
   ]
  },
  {
   "cell_type": "code",
   "execution_count": 24,
   "metadata": {},
   "outputs": [],
   "source": [
    "crimes[\"location_description\"]=crimes[\"location_description\"].apply(lambda x: loc(x))"
   ]
  },
  {
   "cell_type": "code",
   "execution_count": 25,
   "metadata": {},
   "outputs": [],
   "source": [
    "crimes[\"location_description\"].replace('medical dental office','dental office',inplace= True)\n",
    "\n",
    "crimes[\"location_description\"].replace('airport terminal upper level   non secure area','airport terminal',inplace= True)\n",
    "\n",
    "crimes[\"location_description\"].replace('airport terminal lower level   secure area','airport terminal',inplace= True)\n",
    "\n",
    "crimes[\"location_description\"].replace('airport terminal mezzanine   non secure area','airport',inplace= True)\n",
    "\n",
    "crimes[\"location_description\"].replace('airport transportation system  ats','airport',inplace= True)\n",
    "\n",
    "crimes[\"location_description\"].replace('airport building non terminal   secure area','airport terminal',inplace= True)\n",
    "\n",
    "crimes[\"location_description\"].replace('airport building non terminal   non secure area','airport terminal',inplace= True)\n",
    "\n",
    "crimes[\"location_description\"].replace('airport terminal lower level   non secure area','airport terminal',inplace= True)\n",
    "\n",
    "crimes[\"location_description\"].replace('cha hallway','hallway',inplace= True)\n",
    "\n",
    "crimes[\"location_description\"].replace('stairwell','elevator',inplace= True)\n",
    "\n",
    "crimes[\"location_description\"].replace('gas station drive prop','gas station',inplace= True)"
   ]
  },
  {
   "cell_type": "code",
   "execution_count": 26,
   "metadata": {},
   "outputs": [],
   "source": [
    "crimes[\"location_description\"].replace('cha parking lot grounds','parking',inplace= True)\n",
    "\n",
    "crimes[\"location_description\"].replace('residential yard  front back','residential yard',inplace= True)\n",
    "\n",
    "crimes[\"location_description\"].replace('commercial   business office','office',inplace= True)\n",
    "\n",
    "crimes[\"location_description\"].replace('atm  automatic teller machine','atm',inplace= True)\n",
    "\n",
    "crimes[\"location_description\"].replace('college university grounds','university grounds',inplace= True)\n",
    "\n",
    "crimes[\"location_description\"].replace('other commercial transportation','commercial transportation',inplace= True)\n",
    "\n",
    "crimes[\"location_description\"].replace('police facility veh parking lot','parking',inplace= True)\n",
    "\n",
    "crimes[\"location_description\"].replace('school, public, building','school',inplace= True)\n",
    "\n",
    "crimes[\"location_description\"].replace('school, private, building','school',inplace= True)\n",
    "\n",
    "crimes[\"location_description\"].replace('cha hallway stairwell elevator','elevator',inplace= True)"
   ]
  },
  {
   "cell_type": "code",
   "execution_count": 27,
   "metadata": {},
   "outputs": [],
   "source": [
    "crimes[\"location_description\"].replace('cta bus','bus',inplace= True)\n",
    "\n",
    "crimes[\"location_description\"].replace('other railroad prop   train depot','train depot',inplace= True)\n",
    "\n",
    "crimes[\"location_description\"].replace('cta platform','platform',inplace= True)\n",
    "\n",
    "crimes[\"location_description\"].replace('residence porch hallway','residence porch',inplace= True)\n",
    "\n",
    "crimes[\"location_description\"].replace('bar or tavern','tavern',inplace= True)"
   ]
  },
  {
   "cell_type": "code",
   "execution_count": 28,
   "metadata": {},
   "outputs": [],
   "source": [
    "crimes[\"location_description\"].replace('cta station','train station',inplace= True)\n",
    "\n",
    "crimes[\"location_description\"].replace('school, private, grounds','school',inplace= True)\n",
    "\n",
    "crimes[\"location_description\"].replace('jail   lock up facility','lock up facility',inplace= True)\n",
    "\n",
    "crimes[\"location_description\"].replace('cta bus stop','bus stop',inplace= True)\n",
    "\n",
    "crimes[\"location_description\"].replace('cta \"l\" train','train depot',inplace= True)\n",
    "\n",
    "crimes[\"location_description\"].replace('cta bus stop','bus stop',inplace= True)\n",
    "\n",
    "crimes[\"location_description\"].replace('cta \"l\" train','train depot',inplace= True)\n",
    "\n",
    "crimes[\"location_description\"].replace('vehicle commercial','commercial vehicle',inplace= True)\n",
    "\n",
    "crimes[\"location_description\"].replace('other commercial transportation','commercial transportation',inplace= True)\n",
    "\n",
    "crimes[\"location_description\"].replace('vehicle   other ride share service  e g , uber, lyft','taxicab',inplace= True)\n",
    "\n",
    "crimes[\"location_description\"].replace('vehicle commercial   trolley bus','commercial vehicle',inplace= True)\n",
    "\n",
    "crimes[\"location_description\"].replace('other commercial transportation','commercial transportation',inplace= True)\n"
   ]
  },
  {
   "cell_type": "code",
   "execution_count": 29,
   "metadata": {},
   "outputs": [],
   "source": [
    "crimes[\"location_description\"].replace('barber shop beauty salonn','commercial transportation',inplace= True)\n",
    "\n",
    "crimes[\"location_description\"].replace('cha parking lot','parking',inplace= True)\n",
    "\n",
    "crimes[\"location_description\"].replace('other commercial transportation','commercial transportation',inplace= True)\n",
    "\n",
    "crimes[\"location_description\"].replace('vehicle commercial   entertainment party bus','party bus',inplace= True)\n",
    "\n",
    "crimes[\"location_description\"].replace('vehicle   other ride service','taxicab',inplace= True)\n",
    "\n",
    "crimes[\"location_description\"].replace('church synagogue place of worship','church',inplace= True)\n",
    "\n",
    "crimes[\"location_description\"].replace('college university residence hall','university residence hall',inplace= True)\n",
    "\n",
    "crimes[\"location_description\"].replace('vehicle   delivery truck','delivery truck',inplace= True)\n",
    "\n",
    "crimes[\"location_description\"].replace('school, public, grounds','school grounds',inplace= True)\n",
    "\n",
    "crimes[\"location_description\"].replace('airport terminal upper level   secure area','airport terminal',inplace= True)\n",
    "\n",
    "crimes[\"location_description\"].replace('cta \"l\" platform','platform',inplace= True)\n",
    "\n",
    "crimes[\"location_description\"].replace('barber shop beauty salon','barbershop',inplace= True)\n",
    "\n",
    "crimes[\"location_description\"].replace('factory manufacturing building','building',inplace= True)\n",
    "\n",
    "crimes[\"location_description\"].replace('parking lot','parking',inplace= True)\n",
    " \n",
    "crimes[\"location_description\"].replace('pool room','poolroom',inplace= True)\n",
    "\n",
    "crimes[\"location_description\"].replace('cta garage','garage',inplace= True)\n",
    "\n",
    "crimes[\"location_description\"].replace('parking lot','parking',inplace= True)\n",
    "\n",
    "crimes[\"location_description\"].replace('parking lot garage non resid','parking',inplace= True)\n"
   ]
  },
  {
   "cell_type": "code",
   "execution_count": 30,
   "metadata": {},
   "outputs": [],
   "source": [
    "crimes[\"location_description\"].replace('small retail store','store',inplace= True)\n",
    "\n",
    "crimes[\"location_description\"].replace('convenience store','store',inplace= True)\n",
    "\n",
    "crimes[\"location_description\"].replace('department store','store',inplace= True)\n",
    "\n",
    "crimes[\"location_description\"].replace('grocery food store','store',inplace= True)"
   ]
  },
  {
   "cell_type": "code",
   "execution_count": 31,
   "metadata": {},
   "outputs": [],
   "source": [
    "crimes[\"location_description\"].replace('garage/auto repair','garage',inplace= True)\n",
    "\n",
    "crimes[\"location_description\"].replace('cha apartment','apartment',inplace= True)\n",
    "\n",
    "crimes[\"location_description\"].replace('hotel motel','hotel',inplace= True)\n",
    "\n",
    "crimes[\"location_description\"].replace('cta \"l\" train','train depot',inplace= True)\n",
    "\n",
    "crimes[\"location_description\"].replace('sports arena stadium','sports stadium',inplace= True)\n",
    "\n",
    "crimes[\"location_description\"].replace('driveway   residential','residential driveway',inplace= True)\n",
    "\n",
    "crimes[\"location_description\"].replace('residence','residential property',inplace= True)"
   ]
  },
  {
   "cell_type": "code",
   "execution_count": 32,
   "metadata": {},
   "outputs": [],
   "source": [
    "crimes[\"location_description\"].replace('government building property','government building',inplace= True)\n",
    "\n",
    "crimes[\"location_description\"].replace('hospital building grounds','hospital building',inplace= True)\n",
    "\n",
    "crimes[\"location_description\"].replace('federal building','government building',inplace= True)"
   ]
  },
  {
   "cell_type": "markdown",
   "metadata": {},
   "source": [
    "## 4. Feature Engineering"
   ]
  },
  {
   "cell_type": "markdown",
   "metadata": {},
   "source": [
    "> #### 4.1 Extacting Features from the datetime column"
   ]
  },
  {
   "cell_type": "code",
   "execution_count": 33,
   "metadata": {},
   "outputs": [],
   "source": [
    "crimes['month'] = crimes['datetime'].dt.month\n",
    "crimes['day'] = crimes['datetime'].dt.day\n",
    "crimes['hour'] = crimes['datetime'].dt.hour\n",
    "crimes['minute'] = crimes['datetime'].dt.minute\n",
    "crimes['weekofday']= crimes['datetime'].dt.dayofweek"
   ]
  },
  {
   "cell_type": "code",
   "execution_count": 34,
   "metadata": {},
   "outputs": [],
   "source": [
    "Weekofday= {\n",
    "    0:\"monday\",\n",
    "    1:\"tuesday\",\n",
    "    2:\"wednesday\",\n",
    "    3:\"thurshday\",\n",
    "    4:\"friday\",\n",
    "    5:\"saturday\",\n",
    "    6:\"sunday\"\n",
    "    }"
   ]
  },
  {
   "cell_type": "code",
   "execution_count": 35,
   "metadata": {},
   "outputs": [],
   "source": [
    "crimes['weekofday'] = crimes['weekofday'].map(Weekofday)"
   ]
  },
  {
   "cell_type": "markdown",
   "metadata": {},
   "source": [
    "**Below shows crimes happening on every day and there isnt much difference between the week day or week end.**"
   ]
  },
  {
   "cell_type": "code",
   "execution_count": 36,
   "metadata": {},
   "outputs": [
    {
     "data": {
      "text/plain": [
       "friday       0.150571\n",
       "saturday     0.145234\n",
       "wednesday    0.141845\n",
       "monday       0.141710\n",
       "thurshday    0.141071\n",
       "tuesday      0.140729\n",
       "sunday       0.138841\n",
       "Name: weekofday, dtype: float64"
      ]
     },
     "execution_count": 36,
     "metadata": {},
     "output_type": "execute_result"
    }
   ],
   "source": [
    "crimes['weekofday'].value_counts(normalize=True)"
   ]
  },
  {
   "cell_type": "code",
   "execution_count": 37,
   "metadata": {},
   "outputs": [
    {
     "data": {
      "text/html": [
       "<div>\n",
       "<style scoped>\n",
       "    .dataframe tbody tr th:only-of-type {\n",
       "        vertical-align: middle;\n",
       "    }\n",
       "\n",
       "    .dataframe tbody tr th {\n",
       "        vertical-align: top;\n",
       "    }\n",
       "\n",
       "    .dataframe thead th {\n",
       "        text-align: right;\n",
       "    }\n",
       "</style>\n",
       "<table border=\"1\" class=\"dataframe\">\n",
       "  <thead>\n",
       "    <tr style=\"text-align: right;\">\n",
       "      <th></th>\n",
       "      <th>datetime</th>\n",
       "      <th>address</th>\n",
       "      <th>IL_crime_code</th>\n",
       "      <th>crime_type</th>\n",
       "      <th>crime_description</th>\n",
       "      <th>location_description</th>\n",
       "      <th>arrests</th>\n",
       "      <th>domestic_violence</th>\n",
       "      <th>pbeats</th>\n",
       "      <th>pdistricts</th>\n",
       "      <th>wards</th>\n",
       "      <th>community_areas</th>\n",
       "      <th>FBI_code</th>\n",
       "      <th>year</th>\n",
       "      <th>latitude</th>\n",
       "      <th>longitude</th>\n",
       "      <th>census_tracts</th>\n",
       "      <th>month</th>\n",
       "      <th>day</th>\n",
       "      <th>hour</th>\n",
       "      <th>minute</th>\n",
       "      <th>weekofday</th>\n",
       "    </tr>\n",
       "  </thead>\n",
       "  <tbody>\n",
       "    <tr>\n",
       "      <th>0</th>\n",
       "      <td>2019-04-19 23:48:00</td>\n",
       "      <td>024xx w van buren st</td>\n",
       "      <td>051A</td>\n",
       "      <td>assault</td>\n",
       "      <td>aggravated: handgun</td>\n",
       "      <td>street</td>\n",
       "      <td>False</td>\n",
       "      <td>False</td>\n",
       "      <td>146.0</td>\n",
       "      <td>11.0</td>\n",
       "      <td>23.0</td>\n",
       "      <td>29.0</td>\n",
       "      <td>04A</td>\n",
       "      <td>2019.0</td>\n",
       "      <td>41.876072</td>\n",
       "      <td>-87.687615</td>\n",
       "      <td>756.0</td>\n",
       "      <td>4</td>\n",
       "      <td>19</td>\n",
       "      <td>23</td>\n",
       "      <td>48</td>\n",
       "      <td>friday</td>\n",
       "    </tr>\n",
       "    <tr>\n",
       "      <th>1</th>\n",
       "      <td>2019-04-19 23:45:00</td>\n",
       "      <td>042xx w 76th st</td>\n",
       "      <td>0320</td>\n",
       "      <td>robbery</td>\n",
       "      <td>strongarm - no weapon</td>\n",
       "      <td>other</td>\n",
       "      <td>False</td>\n",
       "      <td>False</td>\n",
       "      <td>209.0</td>\n",
       "      <td>8.0</td>\n",
       "      <td>30.0</td>\n",
       "      <td>63.0</td>\n",
       "      <td>03</td>\n",
       "      <td>2019.0</td>\n",
       "      <td>41.755028</td>\n",
       "      <td>-87.728551</td>\n",
       "      <td>318.0</td>\n",
       "      <td>4</td>\n",
       "      <td>19</td>\n",
       "      <td>23</td>\n",
       "      <td>45</td>\n",
       "      <td>friday</td>\n",
       "    </tr>\n",
       "  </tbody>\n",
       "</table>\n",
       "</div>"
      ],
      "text/plain": [
       "             datetime               address IL_crime_code crime_type  \\\n",
       "0 2019-04-19 23:48:00  024xx w van buren st          051A    assault   \n",
       "1 2019-04-19 23:45:00       042xx w 76th st          0320    robbery   \n",
       "\n",
       "       crime_description location_description arrests domestic_violence  \\\n",
       "0    aggravated: handgun               street   False             False   \n",
       "1  strongarm - no weapon                other   False             False   \n",
       "\n",
       "   pbeats  pdistricts  wards  community_areas FBI_code    year   latitude  \\\n",
       "0   146.0        11.0   23.0             29.0      04A  2019.0  41.876072   \n",
       "1   209.0         8.0   30.0             63.0       03  2019.0  41.755028   \n",
       "\n",
       "   longitude  census_tracts  month  day  hour  minute weekofday  \n",
       "0 -87.687615          756.0      4   19    23      48    friday  \n",
       "1 -87.728551          318.0      4   19    23      45    friday  "
      ]
     },
     "execution_count": 37,
     "metadata": {},
     "output_type": "execute_result"
    }
   ],
   "source": [
    "crimes.head(2)"
   ]
  },
  {
   "cell_type": "markdown",
   "metadata": {},
   "source": [
    "> #### 4.2 Added 77 community Area"
   ]
  },
  {
   "cell_type": "code",
   "execution_count": 38,
   "metadata": {},
   "outputs": [],
   "source": [
    "# Creating list of Area name with Community Area code.\n",
    "areas = {\n",
    "    \"1\": \"Rogers Park Chicago\",\n",
    "    \"2\": \"West Ridge Chicago\",\n",
    "    \"3\": \"Up-town Chicago\",\n",
    "    \"4\": \"Lincoln Square Chicago\",\n",
    "    \"5\": \"North Center Chicago\",\n",
    "    \"6\": \"Lakeview Chicago\",\n",
    "    \"7\": \"Lincoln Park Chicago\",\n",
    "    \"8\": \"Near North Side Chicago\",\n",
    "    \"9\": \"Edison Park Chicago\",\n",
    "    \"10\": \"Norwood Park Chicago\",\n",
    "    \"11\": \"Jefferson Park Chicago\",\n",
    "    \"12\": \"Forest Glen Chicago\",\n",
    "    \"13\": \"North Park Chicago\",\n",
    "    \"14\": \"Albany Park Chicago\",\n",
    "    \"15\": \"Portage Park Chicago\",\n",
    "    \"16\": \"Irving Park Chicago\",\n",
    "    \"17\": \"Dunning Chicago\",\n",
    "    \"18\": \"Montclare Chicago\",\n",
    "    \"19\": \"Belmont Cragin Chicago\",\n",
    "    \"20\": \"Hermosa Chicago\",\n",
    "    \"21\": \"Avondale Chicago\",\n",
    "    \"22\": \"Logan Square Chicago\",\n",
    "    \"23\": \"Humboldt Park Chicago\",\n",
    "    \"24\": \"West Town Chicago\",\n",
    "    \"25\": \"Austin Chicago\",\n",
    "    \"26\": \"West Garfield Park Chicago\",\n",
    "    \"27\": \"East Garfield Park Chicago\",\n",
    "    \"28\": \"Near West Side Chicago\",\n",
    "    \"29\": \"North Lawndale Chicago\",\n",
    "    \"30\": \"South Lawndale Chicago\",\n",
    "    \"31\": \"Lower West Side Chicago\",\n",
    "    \"32\": \"The Loop Chicago\",\n",
    "    \"33\": \"Near South Side Chicago\",\n",
    "    \"34\": \"Armour Square Chicago\",\n",
    "    \"35\": \"Douglas Chicago\",\n",
    "    \"36\": \"Oakland Chicago\",\n",
    "    \"37\": \"Fuller Park Chicago\",\n",
    "    \"38\": \"Grand Boulevard Chicago\",\n",
    "    \"39\": \"Kenwood Chicago\",\n",
    "    \"40\": \"Washington Park Chicago\",\n",
    "    \"41\": \"Hyde Park Chicago\",\n",
    "    \"42\": \"Woodlawn Chicago\",\n",
    "    \"43\": \"South Shore Chicago\",\n",
    "    \"44\": \"Chatham Chicago\",\n",
    "    \"45\": \"Avalon Park Chicago\",\n",
    "    \"46\": \"South Chicago\",\n",
    "    \"47\": \"Burnside Chicago\",\n",
    "    \"48\": \"Calumet Heights Chicago\",\n",
    "    \"49\": \"Roseland Chicago\",\n",
    "    \"50\": \"Pullman Chicago\",\n",
    "    \"51\": \"South Deering Chicago\",\n",
    "    \"52\": \"East Side Chicago\",\n",
    "    \"53\": \"West Pullman Chicago\",\n",
    "    \"54\": \"Riverdale Chicago\",\n",
    "    \"55\": \"Hegewisch Chicago\",\n",
    "    \"56\": \"Garfield Ridge Chicago\",\n",
    "    \"57\": \"Archer Heights Chicago\",\n",
    "    \"58\": \"Brighton Park Chicago\",\n",
    "    \"59\": \"McKinley Park Chicago\",\n",
    "    \"60\": \"Bridgeport Chicago\",\n",
    "    \"61\": \"New City Chicago\",\n",
    "    \"62\": \"West Elsdon Chicago\",\n",
    "    \"63\": \"Gage Park Chicago\",\n",
    "    \"64\": \"Clearing Chicago\",\n",
    "    \"65\": \"West Lawn Chicago\",\n",
    "    \"66\": \"Chicago Lawn Chicago\",\n",
    "    \"67\": \"West Englewood Chicago\",\n",
    "    \"68\": \"Englewood Chicago\",\n",
    "    \"69\": \"Greater Grand Crossing Chicago\",\n",
    "    \"70\": \"Ashburn Chicago\",\n",
    "    \"71\": \"Auburn Gresham Chicago\",\n",
    "    \"72\": \"Beverly Chicago\",\n",
    "    \"73\": \"Washington Heights Chicago\",\n",
    "    \"74\": \"Mount Greenwood Chicago\",\n",
    "    \"75\": \"Morgan Park Chicago\",\n",
    "    \"76\": \"O'Hare Chicago\",\n",
    "    \"77\": \"Edgewater Chicago\"\n",
    "}"
   ]
  },
  {
   "cell_type": "code",
   "execution_count": 39,
   "metadata": {},
   "outputs": [],
   "source": [
    "crimes['community_areas'] = crimes['community_areas'].astype(float)\n",
    "crimes['community_areas'] = crimes['community_areas'].astype(int)\n",
    "crimes['community_areas'] = crimes['community_areas'].astype(str)\n",
    "crimes['community_area_name'] = crimes['community_areas'].map(areas)"
   ]
  },
  {
   "cell_type": "markdown",
   "metadata": {},
   "source": [
    "> #### 4.3 Adding police Districts"
   ]
  },
  {
   "cell_type": "code",
   "execution_count": 40,
   "metadata": {},
   "outputs": [],
   "source": [
    "police_district ={\n",
    "    \"1\":\"Central\",\n",
    "    \"2\":\"Wentworth\",\n",
    "    \"3\":\"Grand Crossing\",\n",
    "    \"4\":\"South Chicago\",\n",
    "    \"5\":\"Calumet\",\n",
    "    \"6\":\"Gresham\",\n",
    "    \"7\":\"Englewood\",\n",
    "    \"8\":\"Chicago Lawn\",\n",
    "    \"9\":\"Deering\",\n",
    "    \"10\":\"Ogden\",\n",
    "    \"11\":\"Harrison\",\n",
    "    \"12\":\"Near West\",\n",
    "    \"15\":\"Shakespeare\",\n",
    "    \"14\":\"Austin\",\n",
    "    \"16\":\"Jefferson Park\",\n",
    "    \"17\":\"Albany Park\",\n",
    "    \"18\":\"Near North\",\n",
    "    \"19\":\"Town Hall\",\n",
    "    \"20\":\"Lincoln\",\n",
    "    \"22\":\"Morgan Park\",\n",
    "    \"24\":\"Rogers Park\",\n",
    "    \"25\":\"Grand Central\"    }\n",
    "         "
   ]
  },
  {
   "cell_type": "markdown",
   "metadata": {},
   "source": [
    "Looking at the data I got 23 distinct police districts in chicago, but after study realised there are just 22 police district and **31** is not a valid police district."
   ]
  },
  {
   "cell_type": "code",
   "execution_count": 41,
   "metadata": {
    "scrolled": true
   },
   "outputs": [
    {
     "data": {
      "text/plain": [
       "31.0        13\n",
       "20.0     31951\n",
       "24.0     53103\n",
       "17.0     54650\n",
       "22.0     61420\n",
       "16.0     64229\n",
       "14.0     68952\n",
       "15.0     80560\n",
       "2.0      80852\n",
       "5.0      85584\n",
       "19.0     87013\n",
       "10.0     88834\n",
       "9.0      89919\n",
       "1.0      91471\n",
       "12.0     92816\n",
       "18.0     93005\n",
       "3.0      94573\n",
       "25.0    105177\n",
       "7.0     107512\n",
       "4.0     110184\n",
       "6.0     116020\n",
       "8.0     122983\n",
       "11.0    135443\n",
       "Name: pdistricts, dtype: int64"
      ]
     },
     "execution_count": 41,
     "metadata": {},
     "output_type": "execute_result"
    }
   ],
   "source": [
    "crimes['pdistricts'].value_counts().sort_values()"
   ]
  },
  {
   "cell_type": "markdown",
   "metadata": {},
   "source": [
    "#### From study I know chicago have 22 Police Districts"
   ]
  },
  {
   "cell_type": "code",
   "execution_count": 42,
   "metadata": {},
   "outputs": [],
   "source": [
    "unvalid_pd = crimes[crimes['pdistricts']== 31.0]"
   ]
  },
  {
   "cell_type": "code",
   "execution_count": 43,
   "metadata": {},
   "outputs": [],
   "source": [
    "for index in unvalid_pd.index:\n",
    "    crimes = crimes.drop(index)"
   ]
  },
  {
   "cell_type": "code",
   "execution_count": 44,
   "metadata": {},
   "outputs": [],
   "source": [
    "crimes['pdistricts'] = crimes['pdistricts'].astype(float)\n",
    "crimes['pdistricts'] = crimes['pdistricts'].astype(int)\n",
    "crimes['pdistricts'] = crimes['pdistricts'].astype(str)\n",
    "crimes['pdistricts_name'] = crimes['pdistricts'].map(police_district)"
   ]
  },
  {
   "cell_type": "code",
   "execution_count": 45,
   "metadata": {},
   "outputs": [
    {
     "data": {
      "text/html": [
       "<div>\n",
       "<style scoped>\n",
       "    .dataframe tbody tr th:only-of-type {\n",
       "        vertical-align: middle;\n",
       "    }\n",
       "\n",
       "    .dataframe tbody tr th {\n",
       "        vertical-align: top;\n",
       "    }\n",
       "\n",
       "    .dataframe thead th {\n",
       "        text-align: right;\n",
       "    }\n",
       "</style>\n",
       "<table border=\"1\" class=\"dataframe\">\n",
       "  <thead>\n",
       "    <tr style=\"text-align: right;\">\n",
       "      <th></th>\n",
       "      <th>datetime</th>\n",
       "      <th>address</th>\n",
       "      <th>IL_crime_code</th>\n",
       "      <th>crime_type</th>\n",
       "      <th>crime_description</th>\n",
       "      <th>location_description</th>\n",
       "      <th>arrests</th>\n",
       "      <th>domestic_violence</th>\n",
       "      <th>pbeats</th>\n",
       "      <th>pdistricts</th>\n",
       "      <th>wards</th>\n",
       "      <th>community_areas</th>\n",
       "      <th>FBI_code</th>\n",
       "      <th>year</th>\n",
       "      <th>latitude</th>\n",
       "      <th>longitude</th>\n",
       "      <th>census_tracts</th>\n",
       "      <th>month</th>\n",
       "      <th>day</th>\n",
       "      <th>hour</th>\n",
       "      <th>minute</th>\n",
       "      <th>weekofday</th>\n",
       "      <th>community_area_name</th>\n",
       "      <th>pdistricts_name</th>\n",
       "    </tr>\n",
       "  </thead>\n",
       "  <tbody>\n",
       "    <tr>\n",
       "      <th>0</th>\n",
       "      <td>2019-04-19 23:48:00</td>\n",
       "      <td>024xx w van buren st</td>\n",
       "      <td>051A</td>\n",
       "      <td>assault</td>\n",
       "      <td>aggravated: handgun</td>\n",
       "      <td>street</td>\n",
       "      <td>False</td>\n",
       "      <td>False</td>\n",
       "      <td>146.0</td>\n",
       "      <td>11</td>\n",
       "      <td>23.0</td>\n",
       "      <td>29</td>\n",
       "      <td>04A</td>\n",
       "      <td>2019.0</td>\n",
       "      <td>41.876072</td>\n",
       "      <td>-87.687615</td>\n",
       "      <td>756.0</td>\n",
       "      <td>4</td>\n",
       "      <td>19</td>\n",
       "      <td>23</td>\n",
       "      <td>48</td>\n",
       "      <td>friday</td>\n",
       "      <td>North Lawndale Chicago</td>\n",
       "      <td>Harrison</td>\n",
       "    </tr>\n",
       "    <tr>\n",
       "      <th>1</th>\n",
       "      <td>2019-04-19 23:45:00</td>\n",
       "      <td>042xx w 76th st</td>\n",
       "      <td>0320</td>\n",
       "      <td>robbery</td>\n",
       "      <td>strongarm - no weapon</td>\n",
       "      <td>other</td>\n",
       "      <td>False</td>\n",
       "      <td>False</td>\n",
       "      <td>209.0</td>\n",
       "      <td>8</td>\n",
       "      <td>30.0</td>\n",
       "      <td>63</td>\n",
       "      <td>03</td>\n",
       "      <td>2019.0</td>\n",
       "      <td>41.755028</td>\n",
       "      <td>-87.728551</td>\n",
       "      <td>318.0</td>\n",
       "      <td>4</td>\n",
       "      <td>19</td>\n",
       "      <td>23</td>\n",
       "      <td>45</td>\n",
       "      <td>friday</td>\n",
       "      <td>Gage Park Chicago</td>\n",
       "      <td>Chicago Lawn</td>\n",
       "    </tr>\n",
       "  </tbody>\n",
       "</table>\n",
       "</div>"
      ],
      "text/plain": [
       "             datetime               address IL_crime_code crime_type  \\\n",
       "0 2019-04-19 23:48:00  024xx w van buren st          051A    assault   \n",
       "1 2019-04-19 23:45:00       042xx w 76th st          0320    robbery   \n",
       "\n",
       "       crime_description location_description arrests domestic_violence  \\\n",
       "0    aggravated: handgun               street   False             False   \n",
       "1  strongarm - no weapon                other   False             False   \n",
       "\n",
       "   pbeats pdistricts  wards community_areas FBI_code    year   latitude  \\\n",
       "0   146.0         11   23.0              29      04A  2019.0  41.876072   \n",
       "1   209.0          8   30.0              63       03  2019.0  41.755028   \n",
       "\n",
       "   longitude  census_tracts  month  day  hour  minute weekofday  \\\n",
       "0 -87.687615          756.0      4   19    23      48    friday   \n",
       "1 -87.728551          318.0      4   19    23      45    friday   \n",
       "\n",
       "      community_area_name pdistricts_name  \n",
       "0  North Lawndale Chicago        Harrison  \n",
       "1       Gage Park Chicago    Chicago Lawn  "
      ]
     },
     "execution_count": 45,
     "metadata": {},
     "output_type": "execute_result"
    }
   ],
   "source": [
    "crimes.head(2)"
   ]
  },
  {
   "cell_type": "markdown",
   "metadata": {},
   "source": [
    "> #### 4.4 Nine Districts in Chicago"
   ]
  },
  {
   "cell_type": "code",
   "execution_count": 46,
   "metadata": {},
   "outputs": [],
   "source": [
    "# 9 Districts in Chicago\n",
    "\n",
    "nine_districts={\n",
    "    \"Far North Side\": [\"Rogers Park Chicago\",\n",
    "                      \"West Ridge Chicago\",\n",
    "                      \"Up-town Chicago\",\n",
    "                      \"Lincoln Square Chicago\",\n",
    "                      \"Edison Park Chicago\" ,\n",
    "                      \"Norwood Park Chicago\",\n",
    "                      \"Jefferson Park Chicago\",\n",
    "                      \"Forest Glen Chicago\",\n",
    "                      \"North Park Chicago\",\n",
    "                      \"Albany Park Chicago\",\n",
    "                      \"O'Hare Chicago\" ,\n",
    "                      \"Edgewater Chicago\" ],\n",
    "    \n",
    "     \"North Side\":    [\"North Center Chicago\",\n",
    "                       \"Lakeview Chicago\",\n",
    "                       \"Lincoln Park Chicago\",\n",
    "                       \"Avondale Chicago\",\n",
    "                       \"Logan Square Chicago\"] ,\n",
    "    \n",
    "    \"Northwest Side\": [\"Portage Park Chicago\",\n",
    "                       \"Irving Park Chicago\",\n",
    "                       \"Dunning Chicago\",\n",
    "                       \"Montclare Chicago\",\n",
    "                       \"Belmont Cragin Chicago\",\n",
    "                       \"Hermosa Chicago\"],\n",
    "    \n",
    "     \"Central\":       [\"Near North Side Chicago\",\n",
    "                       \"The Loop Chicago\",\n",
    "                       \"Near South Side Chicago\"],\n",
    "    \n",
    "    \"West Side\":      [\"Humboldt Park Chicago\",\n",
    "                       \"West Town Chicago\",\n",
    "                       \"Austin Chicago\",\n",
    "                       \"West Garfield Park Chicago\",\n",
    "                       \"East Garfield Park Chicago\",\n",
    "                       \"Near West Side Chicago\",\n",
    "                       \"North Lawndale Chicago\",\n",
    "                       \"South Lawndale Chicago\" ,\n",
    "                       \"Lower West Side Chicago\" ],\n",
    "    \n",
    "    \"Southwest Side\":  [\"Garfield Ridge Chicago\",\n",
    "                        \"Archer Heights Chicago \",\n",
    "                        \"Brighton Park Chicago\",\n",
    "                        \"McKinley Park Chicago\",\n",
    "                        \"New City Chicago\",\n",
    "                        \"West Elsdon Chicago\",\n",
    "                        \"Gage Park Chicago\",\n",
    "                        \"Clearing Chicago\",\n",
    "                        \"West Lawn Chicago\",\n",
    "                        \"Chicago Lawn Chicago\",\n",
    "                        \"West Englewood Chicago\",\n",
    "                        \"Englewood Chicago\"],\n",
    "    \n",
    "    \"South Side\":      [\"Armour Square Chicago\",\n",
    "                        \"Douglas Chicago\",\n",
    "                        \"Oakland Chicago\",\n",
    "                        \"Fuller Park Chicago\",\n",
    "                        \"Grand Boulevard Chicago\",\n",
    "                        \"Kenwood Chicago\",\n",
    "                        \"Washington Park Chicago\",\n",
    "                        \"Hyde Park Chicago\",\n",
    "                        \"Woodlawn Chicago\",\n",
    "                        \"South Shore Chicago\",\n",
    "                        \"Bridgeport Chicago\",\n",
    "                        \"Greater Grand Crossing Chicago\" ],\n",
    "    \n",
    "    \"Far Southwest Side\": [\"Ashburn Chicago\",\n",
    "                           \"Auburn Gresham Chicago\",\n",
    "                           \"Beverly Chicago\",\n",
    "                           \"Washington Heights Chicago\",\n",
    "                           \"Mount Greenwood Chicago\",\n",
    "                           \"Morgan Park Chicago\"],\n",
    "    \n",
    "    \"Far South Side\":    [\"Chatham Chicago\",\n",
    "                          \"Avalon Park Chicago\",\n",
    "                          \"South Chicago Chicago\",\n",
    "                          \"Burnside Chicago\",\n",
    "                          \"Calumet Heights Chicago\",\n",
    "                          \"Roseland Chicago\",\n",
    "                          \"Pullman Chicago\",\n",
    "                          \"South Deering Chicago\",\n",
    "                          \"East Side Chicago\",\n",
    "                          \"West Pullman Chicago\",\n",
    "                          \"Riverdale Chicago\",\n",
    "                          \"Hegewisch Chicago \"]\n",
    "                }"
   ]
  },
  {
   "cell_type": "code",
   "execution_count": 47,
   "metadata": {},
   "outputs": [],
   "source": [
    "df=pd.DataFrame(columns=[\"area\",\"district\"])\n",
    "for key,value in nine_districts.items():\n",
    "#     print(key,value)\n",
    "    for x in value:\n",
    "        df=df.append({\"area\":x,\"district\":key},ignore_index= True)\n",
    "    "
   ]
  },
  {
   "cell_type": "code",
   "execution_count": 48,
   "metadata": {},
   "outputs": [],
   "source": [
    "crimes=crimes.merge(df,how=\"inner\",left_on=\"community_area_name\",right_on=\"area\")"
   ]
  },
  {
   "cell_type": "code",
   "execution_count": 49,
   "metadata": {},
   "outputs": [],
   "source": [
    "crimes.drop(['area'],axis=1,inplace=True)"
   ]
  },
  {
   "cell_type": "code",
   "execution_count": 50,
   "metadata": {},
   "outputs": [
    {
     "data": {
      "text/plain": [
       "West Side             499211\n",
       "South Side            341163\n",
       "Southwest Side        315785\n",
       "Far North Side        162657\n",
       "Far South Side        156148\n",
       "Northwest Side        119360\n",
       "Far Southwest Side    116621\n",
       "North Side             71318\n",
       "Central                63291\n",
       "Name: district, dtype: int64"
      ]
     },
     "execution_count": 50,
     "metadata": {},
     "output_type": "execute_result"
    }
   ],
   "source": [
    "crimes['district'].value_counts()"
   ]
  },
  {
   "cell_type": "markdown",
   "metadata": {},
   "source": [
    "> #### 4.5 Fixing the crime type and looking at the percentage of all crimes happening."
   ]
  },
  {
   "cell_type": "code",
   "execution_count": 51,
   "metadata": {},
   "outputs": [],
   "source": [
    "crimes['crime_type'].replace('non - criminal','non-criminal',inplace=True)\n",
    "crimes['crime_type'].replace('non-criminal (subject specified)','non-criminal',inplace=True)\n",
    "crimes['crime_type'].replace('other offense','general offense',inplace=True)"
   ]
  },
  {
   "cell_type": "code",
   "execution_count": 52,
   "metadata": {},
   "outputs": [],
   "source": [
    "crimes['crime_type'] = pd.Categorical(crimes['crime_type'])\n",
    "crime_count= pd.DataFrame(crimes.groupby(['crime_type']).size().sort_values(ascending= False),columns= ['crime_counts'])"
   ]
  },
  {
   "cell_type": "code",
   "execution_count": 53,
   "metadata": {},
   "outputs": [],
   "source": [
    "crime_count['total_crime_%age']= crime_count['crime_counts']/(np.sum(crime_count['crime_counts']))"
   ]
  },
  {
   "cell_type": "code",
   "execution_count": 54,
   "metadata": {},
   "outputs": [
    {
     "data": {
      "text/html": [
       "<div>\n",
       "<style scoped>\n",
       "    .dataframe tbody tr th:only-of-type {\n",
       "        vertical-align: middle;\n",
       "    }\n",
       "\n",
       "    .dataframe tbody tr th {\n",
       "        vertical-align: top;\n",
       "    }\n",
       "\n",
       "    .dataframe thead th {\n",
       "        text-align: right;\n",
       "    }\n",
       "</style>\n",
       "<table border=\"1\" class=\"dataframe\">\n",
       "  <thead>\n",
       "    <tr style=\"text-align: right;\">\n",
       "      <th></th>\n",
       "      <th>crime_counts</th>\n",
       "      <th>total_crime_%age</th>\n",
       "    </tr>\n",
       "    <tr>\n",
       "      <th>crime_type</th>\n",
       "      <th></th>\n",
       "      <th></th>\n",
       "    </tr>\n",
       "  </thead>\n",
       "  <tbody>\n",
       "    <tr>\n",
       "      <th>interference with public officer</th>\n",
       "      <td>8326</td>\n",
       "      <td>0.004511</td>\n",
       "    </tr>\n",
       "    <tr>\n",
       "      <th>prostitution</th>\n",
       "      <td>8010</td>\n",
       "      <td>0.004340</td>\n",
       "    </tr>\n",
       "    <tr>\n",
       "      <th>sex offense</th>\n",
       "      <td>6339</td>\n",
       "      <td>0.003435</td>\n",
       "    </tr>\n",
       "    <tr>\n",
       "      <th>homicide</th>\n",
       "      <td>3726</td>\n",
       "      <td>0.002019</td>\n",
       "    </tr>\n",
       "    <tr>\n",
       "      <th>arson</th>\n",
       "      <td>2836</td>\n",
       "      <td>0.001537</td>\n",
       "    </tr>\n",
       "    <tr>\n",
       "      <th>gambling</th>\n",
       "      <td>2470</td>\n",
       "      <td>0.001338</td>\n",
       "    </tr>\n",
       "    <tr>\n",
       "      <th>liquor law violation</th>\n",
       "      <td>2038</td>\n",
       "      <td>0.001104</td>\n",
       "    </tr>\n",
       "    <tr>\n",
       "      <th>kidnapping</th>\n",
       "      <td>1378</td>\n",
       "      <td>0.000747</td>\n",
       "    </tr>\n",
       "    <tr>\n",
       "      <th>stalking</th>\n",
       "      <td>1144</td>\n",
       "      <td>0.000620</td>\n",
       "    </tr>\n",
       "    <tr>\n",
       "      <th>intimidation</th>\n",
       "      <td>917</td>\n",
       "      <td>0.000497</td>\n",
       "    </tr>\n",
       "    <tr>\n",
       "      <th>concealed carry license violation</th>\n",
       "      <td>346</td>\n",
       "      <td>0.000187</td>\n",
       "    </tr>\n",
       "    <tr>\n",
       "      <th>obscenity</th>\n",
       "      <td>332</td>\n",
       "      <td>0.000180</td>\n",
       "    </tr>\n",
       "    <tr>\n",
       "      <th>non-criminal</th>\n",
       "      <td>190</td>\n",
       "      <td>0.000103</td>\n",
       "    </tr>\n",
       "    <tr>\n",
       "      <th>public indecency</th>\n",
       "      <td>75</td>\n",
       "      <td>0.000041</td>\n",
       "    </tr>\n",
       "    <tr>\n",
       "      <th>human trafficking</th>\n",
       "      <td>54</td>\n",
       "      <td>0.000029</td>\n",
       "    </tr>\n",
       "    <tr>\n",
       "      <th>other narcotic violation</th>\n",
       "      <td>38</td>\n",
       "      <td>0.000021</td>\n",
       "    </tr>\n",
       "  </tbody>\n",
       "</table>\n",
       "</div>"
      ],
      "text/plain": [
       "                                   crime_counts  total_crime_%age\n",
       "crime_type                                                       \n",
       "interference with public officer           8326          0.004511\n",
       "prostitution                               8010          0.004340\n",
       "sex offense                                6339          0.003435\n",
       "homicide                                   3726          0.002019\n",
       "arson                                      2836          0.001537\n",
       "gambling                                   2470          0.001338\n",
       "liquor law violation                       2038          0.001104\n",
       "kidnapping                                 1378          0.000747\n",
       "stalking                                   1144          0.000620\n",
       "intimidation                                917          0.000497\n",
       "concealed carry license violation           346          0.000187\n",
       "obscenity                                   332          0.000180\n",
       "non-criminal                                190          0.000103\n",
       "public indecency                             75          0.000041\n",
       "human trafficking                            54          0.000029\n",
       "other narcotic violation                     38          0.000021"
      ]
     },
     "execution_count": 54,
     "metadata": {},
     "output_type": "execute_result"
    }
   ],
   "source": [
    "crime_count.tail(16)"
   ]
  },
  {
   "cell_type": "markdown",
   "metadata": {},
   "source": [
    "**Creating Buckets from Crime type to Crime Classification**"
   ]
  },
  {
   "cell_type": "code",
   "execution_count": 55,
   "metadata": {},
   "outputs": [],
   "source": [
    "crimes.loc[crimes['crime_type'].isin([\"crim sexual assault\",\n",
    "                                      \"prostitution\",\n",
    "                                      \"sex offense\",]),\"crime_classification\"]= \"sexual_offenses\"\n",
    "\n",
    "crimes.loc[crimes['crime_type'].isin([\"narcotics\",\n",
    "                                      \"other narcotic violation\"]), 'crime_classification'] = \"drug_offenses\"\n",
    "\n",
    "\n",
    "crimes.loc[crimes['crime_type'].isin([\"concealed carry license violation\",\n",
    "                                      \"weapons violation\"]), 'crime_classification'] = \"iillegal_weapon_offenses\"\n",
    "\n",
    "\n",
    "crimes.loc[crimes['crime_type'].isin([\"liquor law violation\",\n",
    "                                      \"non-criminal\",\n",
    "                                      \"general offense\"]), 'crime_classification'] = \"general_offenses\"\n",
    "\n",
    "crimes.loc[crimes['crime_type'].isin([\"gambling\",\n",
    "                                      \"interference with public officer\",\n",
    "                                      \"intimidation\",\n",
    "                                      \"obscenity\",\n",
    "                                      \"public peace violation\",\n",
    "                                      \"public indecency\",\n",
    "                                      \"stalking\"]), 'crime_classification'] = \"public_indecency\"\n",
    "\n",
    "\n",
    "\n",
    "crimes.loc[crimes['crime_type'].isin([\"motor vehicle theft\",\n",
    "                                      \"theft\",\n",
    "                                      \"burglary\",\n",
    "                                      \"robbery\",\n",
    "                                      \"deceptive practice\"]), 'crime_classification'] = \"theft\"\n",
    "\n",
    "\n",
    "crimes.loc[crimes['crime_type'].isin([\"assault\",\n",
    "                                      \"battery\"]), 'crime_classification'] = \"violent_offenses\"\n",
    "\n",
    "crimes.loc[crimes['crime_type'].isin([\"kidnapping\",\n",
    "                                      \"human trafficking\"]), 'crime_classification'] = \"kidnapping\"\n",
    "\n",
    "# criminal damange -> Delibarate damage to vehical or property.\n",
    "# arson-> setting someones property to fire.\n",
    "# criminal--> tresspassing to someones property\n",
    "crimes.loc[crimes['crime_type'].isin([\"criminal damage\",\n",
    "                                      \"criminal trespass\",\n",
    "                                      \"arson\"]), 'crime_classification'] = \"criminal_damage\"\n",
    "\n",
    "crimes.loc[crimes['crime_type'].isin([\"offense involving children\"]), 'crime_classification'] = \"child_abuse\"\n",
    "\n",
    "crimes.loc[crimes['crime_type'].isin([\"homicide\"]), 'crime_classification'] = \"homicide\"\n",
    "\n",
    "#crimes"
   ]
  },
  {
   "cell_type": "code",
   "execution_count": 56,
   "metadata": {},
   "outputs": [
    {
     "data": {
      "text/plain": [
       "datetime                0\n",
       "address                 0\n",
       "IL_crime_code           0\n",
       "crime_type              0\n",
       "crime_description       0\n",
       "location_description    0\n",
       "arrests                 0\n",
       "domestic_violence       0\n",
       "pbeats                  0\n",
       "pdistricts              0\n",
       "wards                   0\n",
       "community_areas         0\n",
       "FBI_code                0\n",
       "year                    0\n",
       "latitude                0\n",
       "longitude               0\n",
       "census_tracts           0\n",
       "month                   0\n",
       "day                     0\n",
       "hour                    0\n",
       "minute                  0\n",
       "weekofday               0\n",
       "community_area_name     0\n",
       "pdistricts_name         0\n",
       "district                0\n",
       "crime_classification    0\n",
       "dtype: int64"
      ]
     },
     "execution_count": 56,
     "metadata": {},
     "output_type": "execute_result"
    }
   ],
   "source": [
    "crimes.isnull().sum()"
   ]
  },
  {
   "cell_type": "markdown",
   "metadata": {},
   "source": [
    "> #### 4.6 Converting the month in season"
   ]
  },
  {
   "cell_type": "code",
   "execution_count": 57,
   "metadata": {},
   "outputs": [],
   "source": [
    "def weather(data):\n",
    "    if (data == 1) | (data == 2) |(data == 12):\n",
    "        data='winter'\n",
    "    if (data == 3) | (data == 4) | (data == 5):\n",
    "        data='spring'\n",
    "    if (data == 6) | (data == 7) | (data == 8):\n",
    "        data='summer'\n",
    "    if (data == 9) | (data == 10) | (data == 11):\n",
    "        data='autumn'\n",
    "    return data"
   ]
  },
  {
   "cell_type": "code",
   "execution_count": 58,
   "metadata": {},
   "outputs": [],
   "source": [
    "crimes['season'] = crimes['month'].map(lambda x: weather(x))"
   ]
  },
  {
   "cell_type": "markdown",
   "metadata": {},
   "source": [
    "> #### 4.7 Converting the hour into time of day"
   ]
  },
  {
   "cell_type": "code",
   "execution_count": 59,
   "metadata": {},
   "outputs": [],
   "source": [
    "def day_time(data):\n",
    "    if (data == 3) | (data == 4) |(data == 5)|(data == 6)|(data == 7):\n",
    "        data='early morning'\n",
    "    if (data == 8) | (data == 9) | (data == 10) | (data == 11)|(data == 12):\n",
    "        data='late morning'\n",
    "    if (data == 13) | (data == 14) | (data == 15)|(data == 16)|(data == 17):\n",
    "        data='afternoon'\n",
    "    if (data == 18) | (data == 19) | (data == 20)|(data == 21):\n",
    "        data='evening'\n",
    "    if (data == 22) | (data == 23) |(data == 0) | (data == 1) | (data == 2):\n",
    "        data='night'\n",
    "    return data"
   ]
  },
  {
   "cell_type": "code",
   "execution_count": 60,
   "metadata": {},
   "outputs": [],
   "source": [
    "crimes['parts_of_day'] = crimes['hour'].map(lambda x: day_time(x))"
   ]
  },
  {
   "cell_type": "code",
   "execution_count": 61,
   "metadata": {},
   "outputs": [
    {
     "data": {
      "text/html": [
       "<div>\n",
       "<style scoped>\n",
       "    .dataframe tbody tr th:only-of-type {\n",
       "        vertical-align: middle;\n",
       "    }\n",
       "\n",
       "    .dataframe tbody tr th {\n",
       "        vertical-align: top;\n",
       "    }\n",
       "\n",
       "    .dataframe thead th {\n",
       "        text-align: right;\n",
       "    }\n",
       "</style>\n",
       "<table border=\"1\" class=\"dataframe\">\n",
       "  <thead>\n",
       "    <tr style=\"text-align: right;\">\n",
       "      <th></th>\n",
       "      <th>0</th>\n",
       "      <th>1</th>\n",
       "      <th>2</th>\n",
       "    </tr>\n",
       "  </thead>\n",
       "  <tbody>\n",
       "    <tr>\n",
       "      <th>datetime</th>\n",
       "      <td>2019-04-19 23:48:00</td>\n",
       "      <td>2019-04-19 23:19:00</td>\n",
       "      <td>2019-04-19 23:15:00</td>\n",
       "    </tr>\n",
       "    <tr>\n",
       "      <th>address</th>\n",
       "      <td>024xx w van buren st</td>\n",
       "      <td>025xx w washington blvd</td>\n",
       "      <td>002xx s hoyne ave</td>\n",
       "    </tr>\n",
       "    <tr>\n",
       "      <th>IL_crime_code</th>\n",
       "      <td>051A</td>\n",
       "      <td>0910</td>\n",
       "      <td>2820</td>\n",
       "    </tr>\n",
       "    <tr>\n",
       "      <th>crime_type</th>\n",
       "      <td>assault</td>\n",
       "      <td>motor vehicle theft</td>\n",
       "      <td>general offense</td>\n",
       "    </tr>\n",
       "    <tr>\n",
       "      <th>crime_description</th>\n",
       "      <td>aggravated: handgun</td>\n",
       "      <td>automobile</td>\n",
       "      <td>telephone threat</td>\n",
       "    </tr>\n",
       "    <tr>\n",
       "      <th>location_description</th>\n",
       "      <td>street</td>\n",
       "      <td>residential driveway</td>\n",
       "      <td>apartment</td>\n",
       "    </tr>\n",
       "    <tr>\n",
       "      <th>arrests</th>\n",
       "      <td>False</td>\n",
       "      <td>False</td>\n",
       "      <td>False</td>\n",
       "    </tr>\n",
       "    <tr>\n",
       "      <th>domestic_violence</th>\n",
       "      <td>False</td>\n",
       "      <td>False</td>\n",
       "      <td>True</td>\n",
       "    </tr>\n",
       "    <tr>\n",
       "      <th>pbeats</th>\n",
       "      <td>146</td>\n",
       "      <td>77</td>\n",
       "      <td>139</td>\n",
       "    </tr>\n",
       "    <tr>\n",
       "      <th>pdistricts</th>\n",
       "      <td>11</td>\n",
       "      <td>12</td>\n",
       "      <td>12</td>\n",
       "    </tr>\n",
       "    <tr>\n",
       "      <th>wards</th>\n",
       "      <td>23</td>\n",
       "      <td>46</td>\n",
       "      <td>46</td>\n",
       "    </tr>\n",
       "    <tr>\n",
       "      <th>community_areas</th>\n",
       "      <td>29</td>\n",
       "      <td>29</td>\n",
       "      <td>29</td>\n",
       "    </tr>\n",
       "    <tr>\n",
       "      <th>FBI_code</th>\n",
       "      <td>04A</td>\n",
       "      <td>07</td>\n",
       "      <td>08A</td>\n",
       "    </tr>\n",
       "    <tr>\n",
       "      <th>year</th>\n",
       "      <td>2019</td>\n",
       "      <td>2019</td>\n",
       "      <td>2019</td>\n",
       "    </tr>\n",
       "    <tr>\n",
       "      <th>latitude</th>\n",
       "      <td>41.8761</td>\n",
       "      <td>41.883</td>\n",
       "      <td>41.8783</td>\n",
       "    </tr>\n",
       "    <tr>\n",
       "      <th>longitude</th>\n",
       "      <td>-87.6876</td>\n",
       "      <td>-87.6898</td>\n",
       "      <td>-87.679</td>\n",
       "    </tr>\n",
       "    <tr>\n",
       "      <th>census_tracts</th>\n",
       "      <td>756</td>\n",
       "      <td>37</td>\n",
       "      <td>89</td>\n",
       "    </tr>\n",
       "    <tr>\n",
       "      <th>month</th>\n",
       "      <td>4</td>\n",
       "      <td>4</td>\n",
       "      <td>4</td>\n",
       "    </tr>\n",
       "    <tr>\n",
       "      <th>day</th>\n",
       "      <td>19</td>\n",
       "      <td>19</td>\n",
       "      <td>19</td>\n",
       "    </tr>\n",
       "    <tr>\n",
       "      <th>hour</th>\n",
       "      <td>23</td>\n",
       "      <td>23</td>\n",
       "      <td>23</td>\n",
       "    </tr>\n",
       "    <tr>\n",
       "      <th>minute</th>\n",
       "      <td>48</td>\n",
       "      <td>19</td>\n",
       "      <td>15</td>\n",
       "    </tr>\n",
       "    <tr>\n",
       "      <th>weekofday</th>\n",
       "      <td>friday</td>\n",
       "      <td>friday</td>\n",
       "      <td>friday</td>\n",
       "    </tr>\n",
       "    <tr>\n",
       "      <th>community_area_name</th>\n",
       "      <td>North Lawndale Chicago</td>\n",
       "      <td>North Lawndale Chicago</td>\n",
       "      <td>North Lawndale Chicago</td>\n",
       "    </tr>\n",
       "    <tr>\n",
       "      <th>pdistricts_name</th>\n",
       "      <td>Harrison</td>\n",
       "      <td>Near West</td>\n",
       "      <td>Near West</td>\n",
       "    </tr>\n",
       "    <tr>\n",
       "      <th>district</th>\n",
       "      <td>West Side</td>\n",
       "      <td>West Side</td>\n",
       "      <td>West Side</td>\n",
       "    </tr>\n",
       "    <tr>\n",
       "      <th>crime_classification</th>\n",
       "      <td>violent_offenses</td>\n",
       "      <td>theft</td>\n",
       "      <td>general_offenses</td>\n",
       "    </tr>\n",
       "    <tr>\n",
       "      <th>season</th>\n",
       "      <td>spring</td>\n",
       "      <td>spring</td>\n",
       "      <td>spring</td>\n",
       "    </tr>\n",
       "    <tr>\n",
       "      <th>parts_of_day</th>\n",
       "      <td>night</td>\n",
       "      <td>night</td>\n",
       "      <td>night</td>\n",
       "    </tr>\n",
       "  </tbody>\n",
       "</table>\n",
       "</div>"
      ],
      "text/plain": [
       "                                           0                        1  \\\n",
       "datetime                 2019-04-19 23:48:00      2019-04-19 23:19:00   \n",
       "address                 024xx w van buren st  025xx w washington blvd   \n",
       "IL_crime_code                           051A                     0910   \n",
       "crime_type                           assault      motor vehicle theft   \n",
       "crime_description        aggravated: handgun               automobile   \n",
       "location_description                  street     residential driveway   \n",
       "arrests                                False                    False   \n",
       "domestic_violence                      False                    False   \n",
       "pbeats                                   146                       77   \n",
       "pdistricts                                11                       12   \n",
       "wards                                     23                       46   \n",
       "community_areas                           29                       29   \n",
       "FBI_code                                 04A                       07   \n",
       "year                                    2019                     2019   \n",
       "latitude                             41.8761                   41.883   \n",
       "longitude                           -87.6876                 -87.6898   \n",
       "census_tracts                            756                       37   \n",
       "month                                      4                        4   \n",
       "day                                       19                       19   \n",
       "hour                                      23                       23   \n",
       "minute                                    48                       19   \n",
       "weekofday                             friday                   friday   \n",
       "community_area_name   North Lawndale Chicago   North Lawndale Chicago   \n",
       "pdistricts_name                     Harrison                Near West   \n",
       "district                           West Side                West Side   \n",
       "crime_classification        violent_offenses                    theft   \n",
       "season                                spring                   spring   \n",
       "parts_of_day                           night                    night   \n",
       "\n",
       "                                           2  \n",
       "datetime                 2019-04-19 23:15:00  \n",
       "address                    002xx s hoyne ave  \n",
       "IL_crime_code                           2820  \n",
       "crime_type                   general offense  \n",
       "crime_description           telephone threat  \n",
       "location_description               apartment  \n",
       "arrests                                False  \n",
       "domestic_violence                       True  \n",
       "pbeats                                   139  \n",
       "pdistricts                                12  \n",
       "wards                                     46  \n",
       "community_areas                           29  \n",
       "FBI_code                                 08A  \n",
       "year                                    2019  \n",
       "latitude                             41.8783  \n",
       "longitude                            -87.679  \n",
       "census_tracts                             89  \n",
       "month                                      4  \n",
       "day                                       19  \n",
       "hour                                      23  \n",
       "minute                                    15  \n",
       "weekofday                             friday  \n",
       "community_area_name   North Lawndale Chicago  \n",
       "pdistricts_name                    Near West  \n",
       "district                           West Side  \n",
       "crime_classification        general_offenses  \n",
       "season                                spring  \n",
       "parts_of_day                           night  "
      ]
     },
     "execution_count": 61,
     "metadata": {},
     "output_type": "execute_result"
    }
   ],
   "source": [
    "crimes.head(3).T"
   ]
  },
  {
   "cell_type": "code",
   "execution_count": 62,
   "metadata": {},
   "outputs": [
    {
     "data": {
      "text/plain": [
       "datetime                0\n",
       "address                 0\n",
       "IL_crime_code           0\n",
       "crime_type              0\n",
       "crime_description       0\n",
       "location_description    0\n",
       "arrests                 0\n",
       "domestic_violence       0\n",
       "pbeats                  0\n",
       "pdistricts              0\n",
       "wards                   0\n",
       "community_areas         0\n",
       "FBI_code                0\n",
       "year                    0\n",
       "latitude                0\n",
       "longitude               0\n",
       "census_tracts           0\n",
       "month                   0\n",
       "day                     0\n",
       "hour                    0\n",
       "minute                  0\n",
       "weekofday               0\n",
       "community_area_name     0\n",
       "pdistricts_name         0\n",
       "district                0\n",
       "crime_classification    0\n",
       "season                  0\n",
       "parts_of_day            0\n",
       "dtype: int64"
      ]
     },
     "execution_count": 62,
     "metadata": {},
     "output_type": "execute_result"
    }
   ],
   "source": [
    "crimes.isnull().sum()"
   ]
  },
  {
   "cell_type": "code",
   "execution_count": 63,
   "metadata": {},
   "outputs": [
    {
     "data": {
      "text/html": [
       "<div>\n",
       "<style scoped>\n",
       "    .dataframe tbody tr th:only-of-type {\n",
       "        vertical-align: middle;\n",
       "    }\n",
       "\n",
       "    .dataframe tbody tr th {\n",
       "        vertical-align: top;\n",
       "    }\n",
       "\n",
       "    .dataframe thead th {\n",
       "        text-align: right;\n",
       "    }\n",
       "</style>\n",
       "<table border=\"1\" class=\"dataframe\">\n",
       "  <thead>\n",
       "    <tr style=\"text-align: right;\">\n",
       "      <th></th>\n",
       "      <th>datetime</th>\n",
       "      <th>address</th>\n",
       "      <th>IL_crime_code</th>\n",
       "      <th>crime_type</th>\n",
       "      <th>crime_description</th>\n",
       "      <th>location_description</th>\n",
       "      <th>arrests</th>\n",
       "      <th>domestic_violence</th>\n",
       "      <th>pbeats</th>\n",
       "      <th>pdistricts</th>\n",
       "      <th>wards</th>\n",
       "      <th>community_areas</th>\n",
       "      <th>FBI_code</th>\n",
       "      <th>year</th>\n",
       "      <th>latitude</th>\n",
       "      <th>longitude</th>\n",
       "      <th>census_tracts</th>\n",
       "      <th>month</th>\n",
       "      <th>day</th>\n",
       "      <th>hour</th>\n",
       "      <th>minute</th>\n",
       "      <th>weekofday</th>\n",
       "      <th>community_area_name</th>\n",
       "      <th>pdistricts_name</th>\n",
       "      <th>district</th>\n",
       "      <th>crime_classification</th>\n",
       "      <th>season</th>\n",
       "      <th>parts_of_day</th>\n",
       "    </tr>\n",
       "  </thead>\n",
       "  <tbody>\n",
       "    <tr>\n",
       "      <th>0</th>\n",
       "      <td>2019-04-19 23:48:00</td>\n",
       "      <td>024xx w van buren st</td>\n",
       "      <td>051A</td>\n",
       "      <td>assault</td>\n",
       "      <td>aggravated: handgun</td>\n",
       "      <td>street</td>\n",
       "      <td>False</td>\n",
       "      <td>False</td>\n",
       "      <td>146.0</td>\n",
       "      <td>11</td>\n",
       "      <td>23.0</td>\n",
       "      <td>29</td>\n",
       "      <td>04A</td>\n",
       "      <td>2019.0</td>\n",
       "      <td>41.876072</td>\n",
       "      <td>-87.687615</td>\n",
       "      <td>756.0</td>\n",
       "      <td>4</td>\n",
       "      <td>19</td>\n",
       "      <td>23</td>\n",
       "      <td>48</td>\n",
       "      <td>friday</td>\n",
       "      <td>North Lawndale Chicago</td>\n",
       "      <td>Harrison</td>\n",
       "      <td>West Side</td>\n",
       "      <td>violent_offenses</td>\n",
       "      <td>spring</td>\n",
       "      <td>night</td>\n",
       "    </tr>\n",
       "  </tbody>\n",
       "</table>\n",
       "</div>"
      ],
      "text/plain": [
       "             datetime               address IL_crime_code crime_type  \\\n",
       "0 2019-04-19 23:48:00  024xx w van buren st          051A    assault   \n",
       "\n",
       "     crime_description location_description arrests domestic_violence  pbeats  \\\n",
       "0  aggravated: handgun               street   False             False   146.0   \n",
       "\n",
       "  pdistricts  wards community_areas FBI_code    year   latitude  longitude  \\\n",
       "0         11   23.0              29      04A  2019.0  41.876072 -87.687615   \n",
       "\n",
       "   census_tracts  month  day  hour  minute weekofday     community_area_name  \\\n",
       "0          756.0      4   19    23      48    friday  North Lawndale Chicago   \n",
       "\n",
       "  pdistricts_name   district crime_classification  season parts_of_day  \n",
       "0        Harrison  West Side     violent_offenses  spring        night  "
      ]
     },
     "execution_count": 63,
     "metadata": {},
     "output_type": "execute_result"
    }
   ],
   "source": [
    "crimes[crimes.index == 0]"
   ]
  },
  {
   "cell_type": "markdown",
   "metadata": {},
   "source": [
    "## Analysing the features"
   ]
  },
  {
   "cell_type": "code",
   "execution_count": 64,
   "metadata": {},
   "outputs": [
    {
     "data": {
      "text/plain": [
       "<matplotlib.axes._subplots.AxesSubplot at 0x1ad10ee0f0>"
      ]
     },
     "execution_count": 64,
     "metadata": {},
     "output_type": "execute_result"
    },
    {
     "data": {
      "image/png": "[encoded data removed]",
      "text/plain": [
       "<Figure size 432x288 with 1 Axes>"
      ]
     },
     "metadata": {
      "needs_background": "light"
     },
     "output_type": "display_data"
    }
   ],
   "source": [
    "#Plotting the features:\n",
    "crimes['crime_type'].value_counts().plot(kind='bar',)"
   ]
  },
  {
   "cell_type": "markdown",
   "metadata": {},
   "source": [
    "\n",
    "THEFT is the most recorded crime."
   ]
  },
  {
   "cell_type": "code",
   "execution_count": 65,
   "metadata": {},
   "outputs": [
    {
     "data": {
      "text/plain": [
       "<matplotlib.axes._subplots.AxesSubplot at 0x1ad102b208>"
      ]
     },
     "execution_count": 65,
     "metadata": {},
     "output_type": "execute_result"
    },
    {
     "data": {
      "image/png": "[encoded data removed]",
      "text/plain": [
       "<Figure size 432x288 with 1 Axes>"
      ]
     },
     "metadata": {
      "needs_background": "light"
     },
     "output_type": "display_data"
    }
   ],
   "source": [
    "crimes['arrests'].value_counts().plot(kind='bar')"
   ]
  },
  {
   "cell_type": "markdown",
   "metadata": {},
   "source": [
    "Not many arrests compared the crime recorded."
   ]
  },
  {
   "cell_type": "code",
   "execution_count": 66,
   "metadata": {},
   "outputs": [
    {
     "data": {
      "text/plain": [
       "<matplotlib.axes._subplots.AxesSubplot at 0x1ad0db48d0>"
      ]
     },
     "execution_count": 66,
     "metadata": {},
     "output_type": "execute_result"
    },
    {
     "data": {
      "image/png": "[encoded data removed]",
      "text/plain": [
       "<Figure size 432x288 with 1 Axes>"
      ]
     },
     "metadata": {
      "needs_background": "light"
     },
     "output_type": "display_data"
    }
   ],
   "source": [
    "crimes['year'].value_counts().plot(kind='bar')"
   ]
  },
  {
   "cell_type": "markdown",
   "metadata": {},
   "source": [
    "The crime rate has reduced over the years. It was highest in 2013. Since 2014, the crime rate has reduced."
   ]
  },
  {
   "cell_type": "code",
   "execution_count": 67,
   "metadata": {},
   "outputs": [
    {
     "data": {
      "text/plain": [
       "<matplotlib.axes._subplots.AxesSubplot at 0x1ad0c8b358>"
      ]
     },
     "execution_count": 67,
     "metadata": {},
     "output_type": "execute_result"
    },
    {
     "data": {
      "image/png": "[encoded data removed]",
      "text/plain": [
       "<Figure size 432x288 with 1 Axes>"
      ]
     },
     "metadata": {
      "needs_background": "light"
     },
     "output_type": "display_data"
    }
   ],
   "source": [
    "crimes['month'].value_counts().plot(kind='bar')"
   ]
  },
  {
   "cell_type": "markdown",
   "metadata": {},
   "source": [
    "The Crime is higher between May and August compared to the rest of the year.However, the crime rate is lower during the winter months, February has he lowest crime rate registered."
   ]
  },
  {
   "cell_type": "code",
   "execution_count": 68,
   "metadata": {},
   "outputs": [
    {
     "data": {
      "text/plain": [
       "<matplotlib.axes._subplots.AxesSubplot at 0x1ad0b014a8>"
      ]
     },
     "execution_count": 68,
     "metadata": {},
     "output_type": "execute_result"
    },
    {
     "data": {
      "image/png": "[encoded data removed]",
      "text/plain": [
       "<Figure size 432x288 with 1 Axes>"
      ]
     },
     "metadata": {
      "needs_background": "light"
     },
     "output_type": "display_data"
    }
   ],
   "source": [
    "crimes['district'].value_counts().plot(kind='bar')"
   ]
  },
  {
   "cell_type": "code",
   "execution_count": 69,
   "metadata": {},
   "outputs": [
    {
     "data": {
      "text/plain": [
       "(1845554, 28)"
      ]
     },
     "execution_count": 69,
     "metadata": {},
     "output_type": "execute_result"
    }
   ],
   "source": [
    "crimes.shape"
   ]
  },
  {
   "cell_type": "code",
   "execution_count": 70,
   "metadata": {},
   "outputs": [
    {
     "data": {
      "text/html": [
       "<div>\n",
       "<style scoped>\n",
       "    .dataframe tbody tr th:only-of-type {\n",
       "        vertical-align: middle;\n",
       "    }\n",
       "\n",
       "    .dataframe tbody tr th {\n",
       "        vertical-align: top;\n",
       "    }\n",
       "\n",
       "    .dataframe thead th {\n",
       "        text-align: right;\n",
       "    }\n",
       "</style>\n",
       "<table border=\"1\" class=\"dataframe\">\n",
       "  <thead>\n",
       "    <tr style=\"text-align: right;\">\n",
       "      <th></th>\n",
       "      <th>datetime</th>\n",
       "      <th>address</th>\n",
       "      <th>IL_crime_code</th>\n",
       "      <th>crime_type</th>\n",
       "      <th>crime_description</th>\n",
       "      <th>location_description</th>\n",
       "      <th>arrests</th>\n",
       "      <th>domestic_violence</th>\n",
       "      <th>pbeats</th>\n",
       "      <th>pdistricts</th>\n",
       "      <th>wards</th>\n",
       "      <th>community_areas</th>\n",
       "      <th>FBI_code</th>\n",
       "      <th>year</th>\n",
       "      <th>latitude</th>\n",
       "      <th>longitude</th>\n",
       "      <th>census_tracts</th>\n",
       "      <th>month</th>\n",
       "      <th>day</th>\n",
       "      <th>hour</th>\n",
       "      <th>minute</th>\n",
       "      <th>weekofday</th>\n",
       "      <th>community_area_name</th>\n",
       "      <th>pdistricts_name</th>\n",
       "      <th>district</th>\n",
       "      <th>crime_classification</th>\n",
       "      <th>season</th>\n",
       "      <th>parts_of_day</th>\n",
       "    </tr>\n",
       "  </thead>\n",
       "  <tbody>\n",
       "    <tr>\n",
       "      <th>0</th>\n",
       "      <td>2019-04-19 23:48:00</td>\n",
       "      <td>024xx w van buren st</td>\n",
       "      <td>051A</td>\n",
       "      <td>assault</td>\n",
       "      <td>aggravated: handgun</td>\n",
       "      <td>street</td>\n",
       "      <td>False</td>\n",
       "      <td>False</td>\n",
       "      <td>146.0</td>\n",
       "      <td>11</td>\n",
       "      <td>23.0</td>\n",
       "      <td>29</td>\n",
       "      <td>04A</td>\n",
       "      <td>2019.0</td>\n",
       "      <td>41.876072</td>\n",
       "      <td>-87.687615</td>\n",
       "      <td>756.0</td>\n",
       "      <td>4</td>\n",
       "      <td>19</td>\n",
       "      <td>23</td>\n",
       "      <td>48</td>\n",
       "      <td>friday</td>\n",
       "      <td>North Lawndale Chicago</td>\n",
       "      <td>Harrison</td>\n",
       "      <td>West Side</td>\n",
       "      <td>violent_offenses</td>\n",
       "      <td>spring</td>\n",
       "      <td>night</td>\n",
       "    </tr>\n",
       "    <tr>\n",
       "      <th>1</th>\n",
       "      <td>2019-04-19 23:19:00</td>\n",
       "      <td>025xx w washington blvd</td>\n",
       "      <td>0910</td>\n",
       "      <td>motor vehicle theft</td>\n",
       "      <td>automobile</td>\n",
       "      <td>residential driveway</td>\n",
       "      <td>False</td>\n",
       "      <td>False</td>\n",
       "      <td>77.0</td>\n",
       "      <td>12</td>\n",
       "      <td>46.0</td>\n",
       "      <td>29</td>\n",
       "      <td>07</td>\n",
       "      <td>2019.0</td>\n",
       "      <td>41.882972</td>\n",
       "      <td>-87.689778</td>\n",
       "      <td>37.0</td>\n",
       "      <td>4</td>\n",
       "      <td>19</td>\n",
       "      <td>23</td>\n",
       "      <td>19</td>\n",
       "      <td>friday</td>\n",
       "      <td>North Lawndale Chicago</td>\n",
       "      <td>Near West</td>\n",
       "      <td>West Side</td>\n",
       "      <td>theft</td>\n",
       "      <td>spring</td>\n",
       "      <td>night</td>\n",
       "    </tr>\n",
       "  </tbody>\n",
       "</table>\n",
       "</div>"
      ],
      "text/plain": [
       "             datetime                  address IL_crime_code  \\\n",
       "0 2019-04-19 23:48:00     024xx w van buren st          051A   \n",
       "1 2019-04-19 23:19:00  025xx w washington blvd          0910   \n",
       "\n",
       "            crime_type    crime_description  location_description arrests  \\\n",
       "0              assault  aggravated: handgun                street   False   \n",
       "1  motor vehicle theft           automobile  residential driveway   False   \n",
       "\n",
       "  domestic_violence  pbeats pdistricts  wards community_areas FBI_code  \\\n",
       "0             False   146.0         11   23.0              29      04A   \n",
       "1             False    77.0         12   46.0              29       07   \n",
       "\n",
       "     year   latitude  longitude  census_tracts  month  day  hour  minute  \\\n",
       "0  2019.0  41.876072 -87.687615          756.0      4   19    23      48   \n",
       "1  2019.0  41.882972 -87.689778           37.0      4   19    23      19   \n",
       "\n",
       "  weekofday     community_area_name pdistricts_name   district  \\\n",
       "0    friday  North Lawndale Chicago        Harrison  West Side   \n",
       "1    friday  North Lawndale Chicago       Near West  West Side   \n",
       "\n",
       "  crime_classification  season parts_of_day  \n",
       "0     violent_offenses  spring        night  \n",
       "1                theft  spring        night  "
      ]
     },
     "execution_count": 70,
     "metadata": {},
     "output_type": "execute_result"
    }
   ],
   "source": [
    "crimes.head(2)"
   ]
  },
  {
   "cell_type": "code",
   "execution_count": 71,
   "metadata": {},
   "outputs": [],
   "source": [
    "crimes.to_csv(\"crime_data_2.csv\")"
   ]
  },
  {
   "cell_type": "code",
   "execution_count": null,
   "metadata": {},
   "outputs": [],
   "source": []
  }
 ],
 "metadata": {
  "kernelspec": {
   "display_name": "Python 3",
   "language": "python",
   "name": "python3"
  },
  "language_info": {
   "codemirror_mode": {
    "name": "ipython",
    "version": 3
   },
   "file_extension": ".py",
   "mimetype": "text/x-python",
   "name": "python",
   "nbconvert_exporter": "python",
   "pygments_lexer": "ipython3",
   "version": "3.7.1"
  }
 },
 "nbformat": 4,
 "nbformat_minor": 2
}
